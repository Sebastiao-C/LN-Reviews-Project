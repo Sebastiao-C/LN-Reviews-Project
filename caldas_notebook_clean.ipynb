{
 "cells": [
  {
   "cell_type": "markdown",
   "id": "cdde0dec-066a-42bf-a250-a495e4e6a8f6",
   "metadata": {},
   "source": [
    "# Imports and downloads"
   ]
  },
  {
   "cell_type": "code",
   "execution_count": 87,
   "id": "0c3f67a2-42f2-48a8-9d04-9f026cd67340",
   "metadata": {
    "execution": {
     "iopub.execute_input": "2023-10-27T19:44:51.144226Z",
     "iopub.status.busy": "2023-10-27T19:44:51.140728Z",
     "iopub.status.idle": "2023-10-27T19:44:51.156115Z",
     "shell.execute_reply": "2023-10-27T19:44:51.155377Z",
     "shell.execute_reply.started": "2023-10-27T19:44:51.144106Z"
    }
   },
   "outputs": [],
   "source": [
    "import torch\n",
    "import matplotlib.pyplot as plt\n",
    "import pandas as pd\n",
    "import numpy as np\n",
    "import math \n",
    "import string\n",
    "import re\n",
    "from sklearn.pipeline import Pipeline\n",
    "from nltk.tokenize import wordpunct_tokenize\n",
    "import nltk"
   ]
  },
  {
   "cell_type": "code",
   "execution_count": 2,
   "id": "6b39a7a3-76f2-4904-a6b0-3b0676086429",
   "metadata": {
    "execution": {
     "iopub.execute_input": "2023-10-27T19:30:08.404715Z",
     "iopub.status.busy": "2023-10-27T19:30:08.404030Z",
     "iopub.status.idle": "2023-10-27T19:30:08.469529Z",
     "shell.execute_reply": "2023-10-27T19:30:08.468662Z",
     "shell.execute_reply.started": "2023-10-27T19:30:08.404698Z"
    }
   },
   "outputs": [
    {
     "name": "stderr",
     "output_type": "stream",
     "text": [
      "[nltk_data] Downloading package brown to /home/sebas/nltk_data...\n",
      "[nltk_data]   Package brown is already up-to-date!\n"
     ]
    },
    {
     "data": {
      "text/plain": [
       "True"
      ]
     },
     "execution_count": 2,
     "metadata": {},
     "output_type": "execute_result"
    }
   ],
   "source": [
    "nltk.download(\"brown\")"
   ]
  },
  {
   "cell_type": "code",
   "execution_count": 3,
   "id": "b0675042-31e4-480b-ba7c-90edf0988f3c",
   "metadata": {
    "execution": {
     "iopub.execute_input": "2023-10-27T19:30:08.470604Z",
     "iopub.status.busy": "2023-10-27T19:30:08.470362Z",
     "iopub.status.idle": "2023-10-27T19:30:08.483331Z",
     "shell.execute_reply": "2023-10-27T19:30:08.482201Z",
     "shell.execute_reply.started": "2023-10-27T19:30:08.470583Z"
    }
   },
   "outputs": [],
   "source": [
    "from nltk.corpus import brown\n",
    "brown_corpus = brown.words()"
   ]
  },
  {
   "cell_type": "code",
   "execution_count": 4,
   "id": "b512d54d-920e-4ac9-aed2-45e1b018d09f",
   "metadata": {
    "execution": {
     "iopub.execute_input": "2023-10-27T19:30:08.484616Z",
     "iopub.status.busy": "2023-10-27T19:30:08.484403Z",
     "iopub.status.idle": "2023-10-27T19:30:09.588100Z",
     "shell.execute_reply": "2023-10-27T19:30:09.587260Z",
     "shell.execute_reply.started": "2023-10-27T19:30:08.484601Z"
    }
   },
   "outputs": [
    {
     "data": {
      "text/plain": [
       "1161192"
      ]
     },
     "execution_count": 4,
     "metadata": {},
     "output_type": "execute_result"
    }
   ],
   "source": [
    "len(brown_corpus)"
   ]
  },
  {
   "cell_type": "code",
   "execution_count": 5,
   "id": "ff8fb6af-a033-410d-90b5-13fdd5eae4cc",
   "metadata": {
    "execution": {
     "iopub.execute_input": "2023-10-27T19:30:09.589090Z",
     "iopub.status.busy": "2023-10-27T19:30:09.588867Z",
     "iopub.status.idle": "2023-10-27T19:30:09.598338Z",
     "shell.execute_reply": "2023-10-27T19:30:09.597321Z",
     "shell.execute_reply.started": "2023-10-27T19:30:09.589075Z"
    }
   },
   "outputs": [],
   "source": [
    "lines = list()\n",
    "\n",
    "with open(\"train.txt\", \"r\") as fp:\n",
    "    lines = fp.readlines()"
   ]
  },
  {
   "cell_type": "code",
   "execution_count": 6,
   "id": "57dcee8d-40b5-4db6-bd61-3f1999b901cd",
   "metadata": {
    "execution": {
     "iopub.execute_input": "2023-10-27T19:30:09.600123Z",
     "iopub.status.busy": "2023-10-27T19:30:09.599490Z",
     "iopub.status.idle": "2023-10-27T19:30:09.616290Z",
     "shell.execute_reply": "2023-10-27T19:30:09.615617Z",
     "shell.execute_reply.started": "2023-10-27T19:30:09.600096Z"
    }
   },
   "outputs": [
    {
     "data": {
      "text/plain": [
       "'!\"#$%&\\'()*+,-./:;<=>?@[\\\\]^_`{|}~'"
      ]
     },
     "execution_count": 6,
     "metadata": {},
     "output_type": "execute_result"
    }
   ],
   "source": [
    "string.punctuation"
   ]
  },
  {
   "cell_type": "code",
   "execution_count": 7,
   "id": "69664467-42fc-490d-8360-6b1516bab45e",
   "metadata": {
    "execution": {
     "iopub.execute_input": "2023-10-27T19:30:09.618343Z",
     "iopub.status.busy": "2023-10-27T19:30:09.618147Z",
     "iopub.status.idle": "2023-10-27T19:30:09.694808Z",
     "shell.execute_reply": "2023-10-27T19:30:09.694155Z",
     "shell.execute_reply.started": "2023-10-27T19:30:09.618329Z"
    }
   },
   "outputs": [],
   "source": [
    "y_train = [x.lower().split('\\t')[0] for x in lines]\n",
    "x_train = [''.join(x.lower().split('\\t')[1:]) for x in lines]\n",
    "x_train = [wordpunct_tokenize(x) for x in x_train]"
   ]
  },
  {
   "cell_type": "code",
   "execution_count": 8,
   "id": "c1aafbfb-5fa5-404c-aeb4-48e1cdb1f664",
   "metadata": {
    "execution": {
     "iopub.execute_input": "2023-10-27T19:30:09.695791Z",
     "iopub.status.busy": "2023-10-27T19:30:09.695617Z",
     "iopub.status.idle": "2023-10-27T19:30:09.699479Z",
     "shell.execute_reply": "2023-10-27T19:30:09.698819Z",
     "shell.execute_reply.started": "2023-10-27T19:30:09.695779Z"
    }
   },
   "outputs": [],
   "source": [
    "labels = set(y_train)"
   ]
  },
  {
   "cell_type": "code",
   "execution_count": 9,
   "id": "a305a311-09a3-4f8c-8eba-c111e8ebd976",
   "metadata": {
    "execution": {
     "iopub.execute_input": "2023-10-27T19:30:09.700575Z",
     "iopub.status.busy": "2023-10-27T19:30:09.700162Z",
     "iopub.status.idle": "2023-10-27T19:30:09.711184Z",
     "shell.execute_reply": "2023-10-27T19:30:09.710195Z",
     "shell.execute_reply.started": "2023-10-27T19:30:09.700551Z"
    }
   },
   "outputs": [
    {
     "name": "stdout",
     "output_type": "stream",
     "text": [
      "Pretty printing has been turned OFF\n"
     ]
    }
   ],
   "source": [
    "%pprint"
   ]
  },
  {
   "cell_type": "code",
   "execution_count": 10,
   "id": "cee0706f-313d-437a-9762-06f4c0f84218",
   "metadata": {
    "execution": {
     "iopub.execute_input": "2023-10-27T19:30:09.712395Z",
     "iopub.status.busy": "2023-10-27T19:30:09.712164Z",
     "iopub.status.idle": "2023-10-27T19:30:09.723215Z",
     "shell.execute_reply": "2023-10-27T19:30:09.722305Z",
     "shell.execute_reply.started": "2023-10-27T19:30:09.712378Z"
    }
   },
   "outputs": [
    {
     "data": {
      "text/plain": [
       "['the', 'sheraton', 'was', 'a', 'wonderful', 'hotel', '!', 'when', 'me', 'and', 'my', 'mom', 'flew', 'in', 'we', 'were', 'really', 'tired', 'so', 'we', 'decided', 'to', 'take', 'a', 'quick', 'nap', '.', 'we', 'didnt', 'want', 'to', 'get', 'up', '!', 'the', 'beds', 'are', 'absolutely', 'to', 'die', 'for', '.', 'i', 'wanted', 'to', 'take', 'it', 'home', 'with', 'me', '.', 'the', 'service', 'was', 'great', 'and', 'this', 'was', 'probably', 'one', 'of', 'the', 'biggest', 'if', 'not', 'the', 'biggest', 'hotel', 'ive', 'ever', 'stayed', 'in', '.', 'they', 'had', 'a', 'really', 'nice', 'restaurant', 'inside', 'with', 'excellent', 'food', '.']"
      ]
     },
     "execution_count": 10,
     "metadata": {},
     "output_type": "execute_result"
    }
   ],
   "source": [
    "x_train[0]"
   ]
  },
  {
   "cell_type": "code",
   "execution_count": 11,
   "id": "19732274-d207-4899-8e92-717f99be83a8",
   "metadata": {
    "execution": {
     "iopub.execute_input": "2023-10-27T19:30:09.724648Z",
     "iopub.status.busy": "2023-10-27T19:30:09.724131Z",
     "iopub.status.idle": "2023-10-27T19:30:09.732618Z",
     "shell.execute_reply": "2023-10-27T19:30:09.731840Z",
     "shell.execute_reply.started": "2023-10-27T19:30:09.724597Z"
    }
   },
   "outputs": [
    {
     "name": "stdout",
     "output_type": "stream",
     "text": [
      "Pretty printing has been turned ON\n"
     ]
    }
   ],
   "source": [
    "%pprint"
   ]
  },
  {
   "cell_type": "code",
   "execution_count": 12,
   "id": "6f7702e0-fa49-41b7-a7bf-36591e752f4b",
   "metadata": {
    "execution": {
     "iopub.execute_input": "2023-10-27T19:30:09.734203Z",
     "iopub.status.busy": "2023-10-27T19:30:09.733596Z",
     "iopub.status.idle": "2023-10-27T19:30:09.742814Z",
     "shell.execute_reply": "2023-10-27T19:30:09.742209Z",
     "shell.execute_reply.started": "2023-10-27T19:30:09.734186Z"
    }
   },
   "outputs": [],
   "source": [
    "lens_train = [len(x) for x in x_train]"
   ]
  },
  {
   "cell_type": "code",
   "execution_count": 13,
   "id": "48ef0e24-b8ba-45dc-9c7f-db97a37ee711",
   "metadata": {
    "execution": {
     "iopub.execute_input": "2023-10-27T19:30:09.743991Z",
     "iopub.status.busy": "2023-10-27T19:30:09.743583Z",
     "iopub.status.idle": "2023-10-27T19:30:09.834645Z",
     "shell.execute_reply": "2023-10-27T19:30:09.833704Z",
     "shell.execute_reply.started": "2023-10-27T19:30:09.743975Z"
    }
   },
   "outputs": [
    {
     "data": {
      "text/plain": [
       "(array([426., 549., 249., 103.,  45.,  16.,   4.,   5.,   2.,   1.]),\n",
       " array([ 28. , 111.6, 195.2, 278.8, 362.4, 446. , 529.6, 613.2, 696.8,\n",
       "        780.4, 864. ]),\n",
       " <BarContainer object of 10 artists>)"
      ]
     },
     "execution_count": 13,
     "metadata": {},
     "output_type": "execute_result"
    },
    {
     "data": {
      "image/png": "[encoded data removed]",
      "text/plain": [
       "<Figure size 640x480 with 1 Axes>"
      ]
     },
     "metadata": {},
     "output_type": "display_data"
    }
   ],
   "source": [
    "plt.hist(lens_train)"
   ]
  },
  {
   "cell_type": "code",
   "execution_count": 14,
   "id": "cb85f3be-c415-4398-ad98-10e2bf3ce04b",
   "metadata": {
    "execution": {
     "iopub.execute_input": "2023-10-27T19:30:09.836231Z",
     "iopub.status.busy": "2023-10-27T19:30:09.835733Z",
     "iopub.status.idle": "2023-10-27T19:30:09.840301Z",
     "shell.execute_reply": "2023-10-27T19:30:09.839750Z",
     "shell.execute_reply.started": "2023-10-27T19:30:09.836217Z"
    }
   },
   "outputs": [
    {
     "data": {
      "text/plain": [
       "864"
      ]
     },
     "execution_count": 14,
     "metadata": {},
     "output_type": "execute_result"
    }
   ],
   "source": [
    "max(lens_train)"
   ]
  },
  {
   "cell_type": "code",
   "execution_count": 15,
   "id": "c201462b-4f01-4aff-9fc4-b57e7fd980fd",
   "metadata": {
    "execution": {
     "iopub.execute_input": "2023-10-27T19:30:09.841131Z",
     "iopub.status.busy": "2023-10-27T19:30:09.840940Z",
     "iopub.status.idle": "2023-10-27T19:30:09.854220Z",
     "shell.execute_reply": "2023-10-27T19:30:09.853305Z",
     "shell.execute_reply.started": "2023-10-27T19:30:09.841118Z"
    }
   },
   "outputs": [],
   "source": [
    "all_text = ' '.join([' '.join(x) for x in x_train])"
   ]
  },
  {
   "cell_type": "code",
   "execution_count": 16,
   "id": "73db12aa-4846-49c0-ae62-350b2aaf1229",
   "metadata": {
    "execution": {
     "iopub.execute_input": "2023-10-27T19:30:09.855214Z",
     "iopub.status.busy": "2023-10-27T19:30:09.855027Z",
     "iopub.status.idle": "2023-10-27T19:30:10.001831Z",
     "shell.execute_reply": "2023-10-27T19:30:10.000813Z",
     "shell.execute_reply.started": "2023-10-27T19:30:09.855200Z"
    }
   },
   "outputs": [
    {
     "data": {
      "image/png": "[encoded data removed]",
      "text/plain": [
       "<Figure size 640x480 with 1 Axes>"
      ]
     },
     "metadata": {},
     "output_type": "display_data"
    }
   ],
   "source": [
    "all_text_s = pd.Series(all_text.split(' '))\n",
    "n_unique_words = len(all_text_s.unique())\n",
    "word_counts = all_text_s.value_counts()\n",
    "plt.scatter(range(n_unique_words), [math.log(x) for x in word_counts])\n",
    "plt.show()"
   ]
  },
  {
   "cell_type": "code",
   "execution_count": 17,
   "id": "d8ae02a2-4611-4383-989e-da59af9a676f",
   "metadata": {
    "execution": {
     "iopub.execute_input": "2023-10-27T19:30:10.003143Z",
     "iopub.status.busy": "2023-10-27T19:30:10.002670Z",
     "iopub.status.idle": "2023-10-27T19:30:10.007207Z",
     "shell.execute_reply": "2023-10-27T19:30:10.006637Z",
     "shell.execute_reply.started": "2023-10-27T19:30:10.003127Z"
    }
   },
   "outputs": [
    {
     "data": {
      "text/plain": [
       "9111"
      ]
     },
     "execution_count": 17,
     "metadata": {},
     "output_type": "execute_result"
    }
   ],
   "source": [
    "n_unique_words"
   ]
  },
  {
   "cell_type": "code",
   "execution_count": 18,
   "id": "5574f52e-fd5b-4abb-b051-f384b6962ac7",
   "metadata": {
    "execution": {
     "iopub.execute_input": "2023-10-27T19:30:10.008085Z",
     "iopub.status.busy": "2023-10-27T19:30:10.007920Z",
     "iopub.status.idle": "2023-10-27T19:30:10.021125Z",
     "shell.execute_reply": "2023-10-27T19:30:10.020459Z",
     "shell.execute_reply.started": "2023-10-27T19:30:10.008072Z"
    }
   },
   "outputs": [
    {
     "data": {
      "text/plain": [
       "the              14021\n",
       ".                11888\n",
       ",                 7418\n",
       "and               6961\n",
       "to                5930\n",
       "                 ...  \n",
       "comparable           6\n",
       "wear                 6\n",
       "sophisticated        6\n",
       "wearing              6\n",
       "certificate          6\n",
       "Name: count, Length: 2362, dtype: int64"
      ]
     },
     "execution_count": 18,
     "metadata": {},
     "output_type": "execute_result"
    }
   ],
   "source": [
    "word_counts[word_counts > 5]"
   ]
  },
  {
   "cell_type": "code",
   "execution_count": 19,
   "id": "a0e60fef-e160-403d-b189-b6daa991b271",
   "metadata": {
    "execution": {
     "iopub.execute_input": "2023-10-27T19:30:10.022101Z",
     "iopub.status.busy": "2023-10-27T19:30:10.021908Z",
     "iopub.status.idle": "2023-10-27T19:30:10.030812Z",
     "shell.execute_reply": "2023-10-27T19:30:10.029967Z",
     "shell.execute_reply.started": "2023-10-27T19:30:10.022088Z"
    }
   },
   "outputs": [],
   "source": [
    "#from nltk.test.gensim_fixt import setup_module\n",
    "#setup_module()"
   ]
  },
  {
   "cell_type": "code",
   "execution_count": 20,
   "id": "bdddd893-040a-4524-a2db-d870cc27fa91",
   "metadata": {
    "execution": {
     "iopub.execute_input": "2023-10-27T19:30:10.031977Z",
     "iopub.status.busy": "2023-10-27T19:30:10.031798Z",
     "iopub.status.idle": "2023-10-27T19:30:10.108193Z",
     "shell.execute_reply": "2023-10-27T19:30:10.107318Z",
     "shell.execute_reply.started": "2023-10-27T19:30:10.031964Z"
    }
   },
   "outputs": [
    {
     "name": "stderr",
     "output_type": "stream",
     "text": [
      "[nltk_data] Downloading package word2vec_sample to\n",
      "[nltk_data]     /home/sebas/nltk_data...\n",
      "[nltk_data]   Package word2vec_sample is already up-to-date!\n"
     ]
    },
    {
     "data": {
      "text/plain": [
       "True"
      ]
     },
     "execution_count": 20,
     "metadata": {},
     "output_type": "execute_result"
    }
   ],
   "source": [
    "nltk.download('word2vec_sample')"
   ]
  },
  {
   "cell_type": "code",
   "execution_count": 21,
   "id": "a5c4cdbb-9d69-424b-a6ee-135a5531cafd",
   "metadata": {
    "execution": {
     "iopub.execute_input": "2023-10-27T19:30:10.109502Z",
     "iopub.status.busy": "2023-10-27T19:30:10.109224Z",
     "iopub.status.idle": "2023-10-27T19:30:14.278214Z",
     "shell.execute_reply": "2023-10-27T19:30:14.277365Z",
     "shell.execute_reply.started": "2023-10-27T19:30:10.109482Z"
    }
   },
   "outputs": [],
   "source": [
    "import gensim\n",
    "from nltk.data import find\n",
    "word2vec_sample = str(find('models/word2vec_sample/pruned.word2vec.txt'))\n",
    "model = gensim.models.KeyedVectors.load_word2vec_format(word2vec_sample, binary=False)"
   ]
  },
  {
   "cell_type": "code",
   "execution_count": 22,
   "id": "f243d82a-1d91-4931-808f-7da4d17db88e",
   "metadata": {
    "execution": {
     "iopub.execute_input": "2023-10-27T19:30:14.281759Z",
     "iopub.status.busy": "2023-10-27T19:30:14.281529Z",
     "iopub.status.idle": "2023-10-27T19:30:14.285814Z",
     "shell.execute_reply": "2023-10-27T19:30:14.284952Z",
     "shell.execute_reply.started": "2023-10-27T19:30:14.281744Z"
    }
   },
   "outputs": [],
   "source": [
    "#model.most_similar(positive=['great','bad'], negative=['good'], topn = 5)"
   ]
  },
  {
   "cell_type": "code",
   "execution_count": 23,
   "id": "86c398cf-acb9-48b0-a15f-16fb53ba2a37",
   "metadata": {
    "execution": {
     "iopub.execute_input": "2023-10-27T19:30:14.286743Z",
     "iopub.status.busy": "2023-10-27T19:30:14.286547Z",
     "iopub.status.idle": "2023-10-27T19:30:14.307914Z",
     "shell.execute_reply": "2023-10-27T19:30:14.307229Z",
     "shell.execute_reply.started": "2023-10-27T19:30:14.286730Z"
    },
    "scrolled": true
   },
   "outputs": [],
   "source": [
    "vocab = list(model.key_to_index.keys())"
   ]
  },
  {
   "cell_type": "code",
   "execution_count": 24,
   "id": "8248e27a-9b1d-48b3-8860-3bb7b96ae3fe",
   "metadata": {
    "execution": {
     "iopub.execute_input": "2023-10-27T19:30:14.309007Z",
     "iopub.status.busy": "2023-10-27T19:30:14.308783Z",
     "iopub.status.idle": "2023-10-27T19:30:58.080090Z",
     "shell.execute_reply": "2023-10-27T19:30:58.079038Z",
     "shell.execute_reply.started": "2023-10-27T19:30:14.308991Z"
    }
   },
   "outputs": [
    {
     "name": "stdout",
     "output_type": "stream",
     "text": [
      "0\n",
      "100\n",
      "200\n",
      "300\n",
      "400\n",
      "500\n",
      "600\n",
      "700\n",
      "800\n",
      "900\n",
      "1000\n",
      "1100\n",
      "1200\n",
      "1300\n"
     ]
    }
   ],
   "source": [
    "reviews_embeddings = list()\n",
    "\n",
    "for i, x in enumerate(x_train):\n",
    "    if (i%100) == 0:\n",
    "        print(i)\n",
    "    word_sum = sum([model[y] for y in x if y in vocab])\n",
    "    reviews_embeddings.append(word_sum)"
   ]
  },
  {
   "cell_type": "code",
   "execution_count": 25,
   "id": "60d2130b-6524-4708-92f5-967023c880cb",
   "metadata": {
    "execution": {
     "iopub.execute_input": "2023-10-27T19:30:58.081464Z",
     "iopub.status.busy": "2023-10-27T19:30:58.081289Z",
     "iopub.status.idle": "2023-10-27T19:30:58.085941Z",
     "shell.execute_reply": "2023-10-27T19:30:58.085392Z",
     "shell.execute_reply.started": "2023-10-27T19:30:58.081447Z"
    },
    "scrolled": true
   },
   "outputs": [
    {
     "data": {
      "text/plain": [
       "1400"
      ]
     },
     "execution_count": 25,
     "metadata": {},
     "output_type": "execute_result"
    }
   ],
   "source": [
    "len(reviews_embeddings)"
   ]
  },
  {
   "cell_type": "code",
   "execution_count": 26,
   "id": "e013f755-97d5-47c4-96db-1c636acbd1eb",
   "metadata": {
    "execution": {
     "iopub.execute_input": "2023-10-27T19:30:58.086748Z",
     "iopub.status.busy": "2023-10-27T19:30:58.086563Z",
     "iopub.status.idle": "2023-10-27T19:30:58.098101Z",
     "shell.execute_reply": "2023-10-27T19:30:58.096954Z",
     "shell.execute_reply.started": "2023-10-27T19:30:58.086736Z"
    }
   },
   "outputs": [],
   "source": [
    "RANDOM_STATE = 123"
   ]
  },
  {
   "cell_type": "code",
   "execution_count": 27,
   "id": "32715b30-b18b-40c5-98ec-a90599c74af4",
   "metadata": {
    "execution": {
     "iopub.execute_input": "2023-10-27T19:30:58.099922Z",
     "iopub.status.busy": "2023-10-27T19:30:58.099607Z",
     "iopub.status.idle": "2023-10-27T19:30:58.234129Z",
     "shell.execute_reply": "2023-10-27T19:30:58.233140Z",
     "shell.execute_reply.started": "2023-10-27T19:30:58.099896Z"
    }
   },
   "outputs": [],
   "source": [
    "X = pd.DataFrame(reviews_embeddings)\n",
    "y = y_train"
   ]
  },
  {
   "cell_type": "code",
   "execution_count": 28,
   "id": "00ffa6bf-cd3c-4f51-aff9-665ec0d3bb20",
   "metadata": {
    "execution": {
     "iopub.execute_input": "2023-10-27T19:30:58.235563Z",
     "iopub.status.busy": "2023-10-27T19:30:58.235248Z",
     "iopub.status.idle": "2023-10-27T19:30:58.240278Z",
     "shell.execute_reply": "2023-10-27T19:30:58.239183Z",
     "shell.execute_reply.started": "2023-10-27T19:30:58.235537Z"
    }
   },
   "outputs": [],
   "source": [
    "#X"
   ]
  },
  {
   "cell_type": "code",
   "execution_count": 29,
   "id": "3ccc4803-1b4b-4e8d-93de-e02f64ed70c9",
   "metadata": {
    "execution": {
     "iopub.execute_input": "2023-10-27T19:30:58.242194Z",
     "iopub.status.busy": "2023-10-27T19:30:58.241698Z",
     "iopub.status.idle": "2023-10-27T19:30:58.272366Z",
     "shell.execute_reply": "2023-10-27T19:30:58.271435Z",
     "shell.execute_reply.started": "2023-10-27T19:30:58.242163Z"
    }
   },
   "outputs": [],
   "source": [
    "from sklearn.linear_model import LogisticRegression\n",
    "from sklearn.model_selection import train_test_split, cross_val_score\n",
    "from sklearn.metrics import accuracy_score\n",
    "from sklearn.svm import SVC\n",
    "from sklearn.ensemble import RandomForestClassifier\n",
    "from sklearn.neighbors import KNeighborsClassifier\n",
    "from sklearn.naive_bayes import GaussianNB\n",
    "from sklearn.ensemble import AdaBoostClassifier\n",
    "from sklearn.neural_network import MLPClassifier\n",
    "from sklearn.model_selection import KFold"
   ]
  },
  {
   "cell_type": "code",
   "execution_count": 30,
   "id": "fc283d24-6c20-4814-aae1-b3b9071a0181",
   "metadata": {
    "execution": {
     "iopub.execute_input": "2023-10-27T19:30:58.273840Z",
     "iopub.status.busy": "2023-10-27T19:30:58.273507Z",
     "iopub.status.idle": "2023-10-27T19:30:58.432180Z",
     "shell.execute_reply": "2023-10-27T19:30:58.431011Z",
     "shell.execute_reply.started": "2023-10-27T19:30:58.273819Z"
    }
   },
   "outputs": [
    {
     "ename": "NameError",
     "evalue": "name 'error' is not defined",
     "output_type": "error",
     "traceback": [
      "\u001b[0;31m---------------------------------------------------------------------------\u001b[0m",
      "\u001b[0;31mNameError\u001b[0m                                 Traceback (most recent call last)",
      "Cell \u001b[0;32mIn[30], line 1\u001b[0m\n\u001b[0;32m----> 1\u001b[0m \u001b[43merror\u001b[49m\n",
      "\u001b[0;31mNameError\u001b[0m: name 'error' is not defined"
     ]
    }
   ],
   "source": [
    "#error"
   ]
  },
  {
   "cell_type": "code",
   "execution_count": 31,
   "id": "d487bd55-82fb-41ed-8d25-bb6593f68dd0",
   "metadata": {
    "execution": {
     "iopub.execute_input": "2023-10-27T19:31:08.963258Z",
     "iopub.status.busy": "2023-10-27T19:31:08.962967Z",
     "iopub.status.idle": "2023-10-27T19:31:08.969574Z",
     "shell.execute_reply": "2023-10-27T19:31:08.968977Z",
     "shell.execute_reply.started": "2023-10-27T19:31:08.963241Z"
    }
   },
   "outputs": [],
   "source": [
    "x_tr, x_te, y_tr, y_te = train_test_split(X, y, random_state=RANDOM_STATE)\n"
   ]
  },
  {
   "cell_type": "code",
   "execution_count": 48,
   "id": "866e69c3-0b0c-432e-9c8c-3a48ee420039",
   "metadata": {
    "execution": {
     "iopub.execute_input": "2023-10-27T19:34:37.244346Z",
     "iopub.status.busy": "2023-10-27T19:34:37.244039Z",
     "iopub.status.idle": "2023-10-27T19:34:48.089598Z",
     "shell.execute_reply": "2023-10-27T19:34:48.088719Z",
     "shell.execute_reply.started": "2023-10-27T19:34:37.244327Z"
    },
    "scrolled": true
   },
   "outputs": [
    {
     "name": "stdout",
     "output_type": "stream",
     "text": [
      "0.7314285714285714\n",
      "0.7307142857142858\n"
     ]
    }
   ],
   "source": [
    "model = LogisticRegression(max_iter=10000)\n",
    "\n",
    "model.fit(x_tr, y_tr)\n",
    "\n",
    "preds = model.predict(x_te)\n",
    "print(accuracy_score(preds, y_te))\n",
    "\n",
    "model = LogisticRegression(max_iter=10000)\n",
    "\n",
    "predictions = cross_val_score(model, X, y, cv=KFold(n_splits=5,   shuffle=True, random_state=RANDOM_STATE), scoring='accuracy')\n",
    "print(predictions.mean())"
   ]
  },
  {
   "cell_type": "code",
   "execution_count": 49,
   "id": "1017e577-b9c0-45b7-9aaa-6cd5d2db050e",
   "metadata": {
    "execution": {
     "iopub.execute_input": "2023-10-27T19:34:48.095746Z",
     "iopub.status.busy": "2023-10-27T19:34:48.093354Z",
     "iopub.status.idle": "2023-10-27T19:34:49.274349Z",
     "shell.execute_reply": "2023-10-27T19:34:49.273455Z",
     "shell.execute_reply.started": "2023-10-27T19:34:48.095716Z"
    }
   },
   "outputs": [
    {
     "name": "stdout",
     "output_type": "stream",
     "text": [
      "0.6828571428571428\n",
      "0.6085714285714285\n"
     ]
    }
   ],
   "source": [
    "model = SVC()\n",
    "\n",
    "\n",
    "model.fit(x_tr, y_tr)\n",
    "\n",
    "preds = model.predict(x_te)\n",
    "print(accuracy_score(preds, y_te))\n",
    "\n",
    "model = SVC()\n",
    "\n",
    "predictions = cross_val_score(model, X, y, cv=KFold(n_splits=5,   shuffle=True, random_state=RANDOM_STATE), scoring='accuracy')\n",
    "print(predictions.mean())"
   ]
  },
  {
   "cell_type": "code",
   "execution_count": 50,
   "id": "ad4c3d08-5a44-478d-b577-170b9567dfb9",
   "metadata": {
    "execution": {
     "iopub.execute_input": "2023-10-27T19:34:49.275564Z",
     "iopub.status.busy": "2023-10-27T19:34:49.275329Z",
     "iopub.status.idle": "2023-10-27T19:34:53.950627Z",
     "shell.execute_reply": "2023-10-27T19:34:53.949962Z",
     "shell.execute_reply.started": "2023-10-27T19:34:49.275532Z"
    }
   },
   "outputs": [
    {
     "name": "stdout",
     "output_type": "stream",
     "text": [
      "0.6428571428571429\n",
      "0.6235714285714286\n"
     ]
    }
   ],
   "source": [
    "model = RandomForestClassifier(n_estimators=100)\n",
    "\n",
    "model.fit(x_tr, y_tr)\n",
    "\n",
    "preds = model.predict(x_te)\n",
    "print(accuracy_score(preds, y_te))\n",
    "\n",
    "model = RandomForestClassifier(n_estimators=100)\n",
    "\n",
    "predictions = cross_val_score(model, X, y, cv=KFold(n_splits=5,   shuffle=True, random_state=RANDOM_STATE), scoring='accuracy')\n",
    "print(predictions.mean())"
   ]
  },
  {
   "cell_type": "code",
   "execution_count": 51,
   "id": "66ef34a7-73a6-4ba4-aea8-3fc0c1cac885",
   "metadata": {
    "execution": {
     "iopub.execute_input": "2023-10-27T19:34:53.952184Z",
     "iopub.status.busy": "2023-10-27T19:34:53.952005Z",
     "iopub.status.idle": "2023-10-27T19:34:54.002465Z",
     "shell.execute_reply": "2023-10-27T19:34:54.001485Z",
     "shell.execute_reply.started": "2023-10-27T19:34:53.952170Z"
    }
   },
   "outputs": [
    {
     "name": "stdout",
     "output_type": "stream",
     "text": [
      "0.3628571428571429\n",
      "0.3878571428571428\n"
     ]
    }
   ],
   "source": [
    "model = GaussianNB()\n",
    "\n",
    "model.fit(x_tr, y_tr)\n",
    "\n",
    "preds = model.predict(x_te)\n",
    "print(accuracy_score(preds, y_te))\n",
    "\n",
    "model = GaussianNB()\n",
    "\n",
    "predictions = cross_val_score(model, X, y, cv=KFold(n_splits=5,   shuffle=True, random_state=RANDOM_STATE), scoring='accuracy')\n",
    "print(predictions.mean())"
   ]
  },
  {
   "cell_type": "code",
   "execution_count": 52,
   "id": "97789729-ba6f-4d6d-a7e6-b2e0439c8e80",
   "metadata": {
    "execution": {
     "iopub.execute_input": "2023-10-27T19:34:54.003607Z",
     "iopub.status.busy": "2023-10-27T19:34:54.003366Z",
     "iopub.status.idle": "2023-10-27T19:35:01.407725Z",
     "shell.execute_reply": "2023-10-27T19:35:01.406802Z",
     "shell.execute_reply.started": "2023-10-27T19:34:54.003592Z"
    }
   },
   "outputs": [
    {
     "name": "stdout",
     "output_type": "stream",
     "text": [
      "0.5857142857142857\n",
      "0.5549999999999999\n"
     ]
    }
   ],
   "source": [
    "model = AdaBoostClassifier()\n",
    "\n",
    "model.fit(x_tr, y_tr)\n",
    "\n",
    "preds = model.predict(x_te)\n",
    "print(accuracy_score(preds, y_te))\n",
    "\n",
    "model = AdaBoostClassifier()\n",
    "\n",
    "predictions = cross_val_score(model, X, y, cv=KFold(n_splits=5,   shuffle=True, random_state=RANDOM_STATE), scoring='accuracy')\n",
    "print(predictions.mean())"
   ]
  },
  {
   "cell_type": "code",
   "execution_count": 53,
   "id": "4a5c6e2f-0fa1-4bca-a153-5e91d79fa5ef",
   "metadata": {
    "execution": {
     "iopub.execute_input": "2023-10-27T19:35:01.408904Z",
     "iopub.status.busy": "2023-10-27T19:35:01.408707Z",
     "iopub.status.idle": "2023-10-27T19:36:42.146882Z",
     "shell.execute_reply": "2023-10-27T19:36:42.146023Z",
     "shell.execute_reply.started": "2023-10-27T19:35:01.408890Z"
    }
   },
   "outputs": [
    {
     "name": "stdout",
     "output_type": "stream",
     "text": [
      "0.7171428571428572\n",
      "0.7449999999999999\n"
     ]
    }
   ],
   "source": [
    "\n",
    "model = MLPClassifier((1000, 1000),max_iter=2000)#, solver='lbfgs', verbose=True)\n",
    "\n",
    "model.fit(x_tr, y_tr)\n",
    "\n",
    "preds = model.predict(x_te)\n",
    "print(accuracy_score(preds, y_te))\n",
    "\n",
    "model = MLPClassifier((1000, 1000),max_iter=2000)#, solver='lbfgs', verbose=True)\n",
    "\n",
    "predictions = cross_val_score(model, X, y, cv=KFold(n_splits=5,   shuffle=True, random_state=RANDOM_STATE), scoring='accuracy')\n",
    "print(predictions.mean())"
   ]
  },
  {
   "cell_type": "code",
   "execution_count": null,
   "id": "193f416a-975e-47d0-87cc-08caf993a339",
   "metadata": {},
   "outputs": [],
   "source": []
  },
  {
   "cell_type": "code",
   "execution_count": null,
   "id": "23f7e0b3-6114-4a6e-bd6b-3f26f0993915",
   "metadata": {},
   "outputs": [],
   "source": []
  },
  {
   "cell_type": "code",
   "execution_count": null,
   "id": "8d0827e3-3e4c-4a12-a000-ec0293cca343",
   "metadata": {},
   "outputs": [],
   "source": []
  },
  {
   "cell_type": "code",
   "execution_count": 54,
   "id": "8b7bee43-67fa-4f92-a11b-97790651687d",
   "metadata": {
    "execution": {
     "iopub.execute_input": "2023-10-27T19:36:42.152724Z",
     "iopub.status.busy": "2023-10-27T19:36:42.150056Z",
     "iopub.status.idle": "2023-10-27T19:36:42.160322Z",
     "shell.execute_reply": "2023-10-27T19:36:42.159683Z",
     "shell.execute_reply.started": "2023-10-27T19:36:42.152683Z"
    }
   },
   "outputs": [],
   "source": [
    "#x_tr"
   ]
  },
  {
   "cell_type": "code",
   "execution_count": 55,
   "id": "0469e8c4-6153-4052-9217-026261948ebb",
   "metadata": {
    "execution": {
     "iopub.execute_input": "2023-10-27T19:36:42.187921Z",
     "iopub.status.busy": "2023-10-27T19:36:42.163709Z",
     "iopub.status.idle": "2023-10-27T19:36:42.256807Z",
     "shell.execute_reply": "2023-10-27T19:36:42.254969Z",
     "shell.execute_reply.started": "2023-10-27T19:36:42.187860Z"
    }
   },
   "outputs": [],
   "source": [
    "from sklearn.preprocessing import StandardScaler\n",
    "\n",
    "ss = StandardScaler()\n",
    "x_tr = ss.fit_transform(x_tr)\n",
    "x_te = ss.transform(x_te)"
   ]
  },
  {
   "cell_type": "code",
   "execution_count": 56,
   "id": "e8470e7a-8141-4234-ae42-e05c26b7ad80",
   "metadata": {
    "execution": {
     "iopub.execute_input": "2023-10-27T19:36:42.258970Z",
     "iopub.status.busy": "2023-10-27T19:36:42.258544Z",
     "iopub.status.idle": "2023-10-27T19:36:42.264856Z",
     "shell.execute_reply": "2023-10-27T19:36:42.263617Z",
     "shell.execute_reply.started": "2023-10-27T19:36:42.258933Z"
    }
   },
   "outputs": [],
   "source": [
    "#x_tr"
   ]
  },
  {
   "cell_type": "code",
   "execution_count": 57,
   "id": "c510d2e9-8d97-4936-9a8d-e300f2fdd198",
   "metadata": {
    "execution": {
     "iopub.execute_input": "2023-10-27T19:36:42.268265Z",
     "iopub.status.busy": "2023-10-27T19:36:42.267681Z",
     "iopub.status.idle": "2023-10-27T19:36:51.226920Z",
     "shell.execute_reply": "2023-10-27T19:36:51.226210Z",
     "shell.execute_reply.started": "2023-10-27T19:36:42.268238Z"
    },
    "scrolled": true
   },
   "outputs": [
    {
     "name": "stdout",
     "output_type": "stream",
     "text": [
      "0.7314285714285714\n",
      "0.7307142857142858\n"
     ]
    }
   ],
   "source": [
    "model = LogisticRegression(max_iter=10000)\n",
    "\n",
    "model.fit(x_tr, y_tr)\n",
    "\n",
    "preds = model.predict(x_te)\n",
    "print(accuracy_score(preds, y_te))\n",
    "\n",
    "model = LogisticRegression(max_iter=10000)\n",
    "\n",
    "predictions = cross_val_score(model, X, y, cv=KFold(n_splits=5,   shuffle=True, random_state=RANDOM_STATE), scoring='accuracy')\n",
    "print(predictions.mean())"
   ]
  },
  {
   "cell_type": "code",
   "execution_count": 58,
   "id": "3ddcc780-32a7-4b70-9243-a44809af4833",
   "metadata": {
    "execution": {
     "iopub.execute_input": "2023-10-27T19:36:51.231501Z",
     "iopub.status.busy": "2023-10-27T19:36:51.230762Z",
     "iopub.status.idle": "2023-10-27T19:36:52.560886Z",
     "shell.execute_reply": "2023-10-27T19:36:52.559769Z",
     "shell.execute_reply.started": "2023-10-27T19:36:51.231466Z"
    }
   },
   "outputs": [
    {
     "name": "stdout",
     "output_type": "stream",
     "text": [
      "0.6828571428571428\n",
      "0.6085714285714285\n"
     ]
    }
   ],
   "source": [
    "model = SVC()\n",
    "\n",
    "\n",
    "model.fit(x_tr, y_tr)\n",
    "\n",
    "preds = model.predict(x_te)\n",
    "print(accuracy_score(preds, y_te))\n",
    "\n",
    "model = SVC()\n",
    "\n",
    "predictions = cross_val_score(model, X, y, cv=KFold(n_splits=5,   shuffle=True, random_state=RANDOM_STATE), scoring='accuracy')\n",
    "print(predictions.mean())"
   ]
  },
  {
   "cell_type": "code",
   "execution_count": 59,
   "id": "f8eba74e-1569-4e5a-8cc9-8ef6abf0cd76",
   "metadata": {
    "execution": {
     "iopub.execute_input": "2023-10-27T19:36:52.562187Z",
     "iopub.status.busy": "2023-10-27T19:36:52.561897Z",
     "iopub.status.idle": "2023-10-27T19:36:58.188342Z",
     "shell.execute_reply": "2023-10-27T19:36:58.187364Z",
     "shell.execute_reply.started": "2023-10-27T19:36:52.562167Z"
    }
   },
   "outputs": [
    {
     "name": "stdout",
     "output_type": "stream",
     "text": [
      "0.6142857142857143\n",
      "0.6221428571428571\n"
     ]
    }
   ],
   "source": [
    "model = RandomForestClassifier(n_estimators=100)\n",
    "\n",
    "model.fit(x_tr, y_tr)\n",
    "\n",
    "preds = model.predict(x_te)\n",
    "print(accuracy_score(preds, y_te))\n",
    "\n",
    "model = RandomForestClassifier(n_estimators=100)\n",
    "\n",
    "predictions = cross_val_score(model, X, y, cv=KFold(n_splits=5,   shuffle=True, random_state=RANDOM_STATE), scoring='accuracy')\n",
    "print(predictions.mean())"
   ]
  },
  {
   "cell_type": "code",
   "execution_count": 60,
   "id": "c579a4d8-c3d7-43d0-8e69-2c19bb3b75fd",
   "metadata": {
    "execution": {
     "iopub.execute_input": "2023-10-27T19:36:58.189840Z",
     "iopub.status.busy": "2023-10-27T19:36:58.189617Z",
     "iopub.status.idle": "2023-10-27T19:36:58.251419Z",
     "shell.execute_reply": "2023-10-27T19:36:58.250439Z",
     "shell.execute_reply.started": "2023-10-27T19:36:58.189823Z"
    }
   },
   "outputs": [
    {
     "name": "stdout",
     "output_type": "stream",
     "text": [
      "0.3628571428571429\n",
      "0.3878571428571428\n"
     ]
    }
   ],
   "source": [
    "model = GaussianNB()\n",
    "\n",
    "model.fit(x_tr, y_tr)\n",
    "\n",
    "preds = model.predict(x_te)\n",
    "print(accuracy_score(preds, y_te))\n",
    "\n",
    "model = GaussianNB()\n",
    "\n",
    "predictions = cross_val_score(model, X, y, cv=KFold(n_splits=5,   shuffle=True, random_state=RANDOM_STATE), scoring='accuracy')\n",
    "print(predictions.mean())"
   ]
  },
  {
   "cell_type": "code",
   "execution_count": 61,
   "id": "0a16d180-d1fc-4b9e-8b69-568af8c40440",
   "metadata": {
    "execution": {
     "iopub.execute_input": "2023-10-27T19:36:58.253084Z",
     "iopub.status.busy": "2023-10-27T19:36:58.252787Z",
     "iopub.status.idle": "2023-10-27T19:37:06.234903Z",
     "shell.execute_reply": "2023-10-27T19:37:06.234004Z",
     "shell.execute_reply.started": "2023-10-27T19:36:58.253063Z"
    }
   },
   "outputs": [
    {
     "name": "stdout",
     "output_type": "stream",
     "text": [
      "0.5857142857142857\n",
      "0.5549999999999999\n"
     ]
    }
   ],
   "source": [
    "model = AdaBoostClassifier()\n",
    "\n",
    "model.fit(x_tr, y_tr)\n",
    "\n",
    "preds = model.predict(x_te)\n",
    "print(accuracy_score(preds, y_te))\n",
    "\n",
    "model = AdaBoostClassifier()\n",
    "\n",
    "predictions = cross_val_score(model, X, y, cv=KFold(n_splits=5,   shuffle=True, random_state=RANDOM_STATE), scoring='accuracy')\n",
    "print(predictions.mean())"
   ]
  },
  {
   "cell_type": "code",
   "execution_count": 62,
   "id": "4d675185-183d-4d04-bb06-68f69f65d9fa",
   "metadata": {
    "execution": {
     "iopub.execute_input": "2023-10-27T19:37:06.236138Z",
     "iopub.status.busy": "2023-10-27T19:37:06.235877Z",
     "iopub.status.idle": "2023-10-27T19:39:47.618740Z",
     "shell.execute_reply": "2023-10-27T19:39:47.617893Z",
     "shell.execute_reply.started": "2023-10-27T19:37:06.236122Z"
    }
   },
   "outputs": [
    {
     "name": "stdout",
     "output_type": "stream",
     "text": [
      "0.7228571428571429\n",
      "0.7485714285714286\n"
     ]
    }
   ],
   "source": [
    "\n",
    "model = MLPClassifier((1000, 1000),max_iter=2000)#, solver='lbfgs', verbose=True)\n",
    "\n",
    "model.fit(x_tr, y_tr)\n",
    "\n",
    "preds = model.predict(x_te)\n",
    "print(accuracy_score(preds, y_te))\n",
    "\n",
    "model = MLPClassifier((1000, 1000),max_iter=2000)#, solver='lbfgs', verbose=True)\n",
    "\n",
    "predictions = cross_val_score(model, X, y, cv=KFold(n_splits=5,   shuffle=True, random_state=RANDOM_STATE), scoring='accuracy')\n",
    "print(predictions.mean())"
   ]
  },
  {
   "cell_type": "code",
   "execution_count": null,
   "id": "27f18523-ab7c-4448-9c9d-3ef6c2ba7edb",
   "metadata": {},
   "outputs": [],
   "source": []
  },
  {
   "cell_type": "code",
   "execution_count": null,
   "id": "e872d32f-1ddf-4a9d-84d9-b038b1a84c38",
   "metadata": {},
   "outputs": [],
   "source": []
  },
  {
   "cell_type": "code",
   "execution_count": null,
   "id": "8fa8f663-f93d-4257-948a-66562a585557",
   "metadata": {},
   "outputs": [],
   "source": []
  },
  {
   "cell_type": "code",
   "execution_count": 88,
   "id": "bd016ee9-35fa-4b1c-a2ae-2c121f444dc7",
   "metadata": {
    "execution": {
     "iopub.execute_input": "2023-10-27T19:44:51.161620Z",
     "iopub.status.busy": "2023-10-27T19:44:51.161090Z",
     "iopub.status.idle": "2023-10-27T19:44:51.489314Z",
     "shell.execute_reply": "2023-10-27T19:44:51.488540Z",
     "shell.execute_reply.started": "2023-10-27T19:44:51.161584Z"
    }
   },
   "outputs": [],
   "source": [
    "Embeds = pd.read_csv(\"Embeddings.csv\", index_col=0)\n",
    "words_dict = pd.read_csv(\"words_dict.csv\", index_col=0)"
   ]
  },
  {
   "cell_type": "code",
   "execution_count": 89,
   "id": "5ca52c29-55d3-4b59-9bbd-7f8c6cafa876",
   "metadata": {
    "execution": {
     "iopub.execute_input": "2023-10-27T19:44:51.492688Z",
     "iopub.status.busy": "2023-10-27T19:44:51.492486Z",
     "iopub.status.idle": "2023-10-27T19:44:51.503447Z",
     "shell.execute_reply": "2023-10-27T19:44:51.502520Z",
     "shell.execute_reply.started": "2023-10-27T19:44:51.492672Z"
    }
   },
   "outputs": [],
   "source": [
    "Embeds = Embeds.to_numpy()\n",
    "words_dict = words_dict.to_dict()"
   ]
  },
  {
   "cell_type": "code",
   "execution_count": 90,
   "id": "2f246c8a-a92c-4761-b748-b8d9d0103a27",
   "metadata": {
    "execution": {
     "iopub.execute_input": "2023-10-27T19:44:51.505620Z",
     "iopub.status.busy": "2023-10-27T19:44:51.504737Z",
     "iopub.status.idle": "2023-10-27T19:44:51.517854Z",
     "shell.execute_reply": "2023-10-27T19:44:51.516782Z",
     "shell.execute_reply.started": "2023-10-27T19:44:51.505588Z"
    }
   },
   "outputs": [],
   "source": [
    "words_dict = words_dict['0']"
   ]
  },
  {
   "cell_type": "code",
   "execution_count": 91,
   "id": "4dcdb796-22b1-4cb3-a0f1-cc4fc291fb5e",
   "metadata": {
    "execution": {
     "iopub.execute_input": "2023-10-27T19:44:51.519815Z",
     "iopub.status.busy": "2023-10-27T19:44:51.519370Z",
     "iopub.status.idle": "2023-10-27T19:44:51.530886Z",
     "shell.execute_reply": "2023-10-27T19:44:51.529709Z",
     "shell.execute_reply.started": "2023-10-27T19:44:51.519775Z"
    },
    "scrolled": true
   },
   "outputs": [],
   "source": [
    "words_dict = dict(zip(words_dict.values(), words_dict.keys()))"
   ]
  },
  {
   "cell_type": "code",
   "execution_count": 92,
   "id": "b400f124-06bb-40b1-bcb3-c77d0043a776",
   "metadata": {
    "execution": {
     "iopub.execute_input": "2023-10-27T19:44:51.532401Z",
     "iopub.status.busy": "2023-10-27T19:44:51.532154Z",
     "iopub.status.idle": "2023-10-27T19:44:51.542337Z",
     "shell.execute_reply": "2023-10-27T19:44:51.541371Z",
     "shell.execute_reply.started": "2023-10-27T19:44:51.532381Z"
    }
   },
   "outputs": [],
   "source": [
    "vocab = list(words_dict.keys())"
   ]
  },
  {
   "cell_type": "code",
   "execution_count": 93,
   "id": "e3840f37-ae36-478e-80f5-2e97fb7a3c14",
   "metadata": {
    "execution": {
     "iopub.execute_input": "2023-10-27T19:44:51.544343Z",
     "iopub.status.busy": "2023-10-27T19:44:51.543582Z",
     "iopub.status.idle": "2023-10-27T19:44:51.554036Z",
     "shell.execute_reply": "2023-10-27T19:44:51.553016Z",
     "shell.execute_reply.started": "2023-10-27T19:44:51.544305Z"
    },
    "scrolled": true
   },
   "outputs": [],
   "source": [
    "#x_train"
   ]
  },
  {
   "cell_type": "code",
   "execution_count": 94,
   "id": "524938a3-d826-4fb0-8660-c19feadb5b62",
   "metadata": {
    "execution": {
     "iopub.execute_input": "2023-10-27T19:44:51.556079Z",
     "iopub.status.busy": "2023-10-27T19:44:51.555244Z",
     "iopub.status.idle": "2023-10-27T19:44:51.565973Z",
     "shell.execute_reply": "2023-10-27T19:44:51.564738Z",
     "shell.execute_reply.started": "2023-10-27T19:44:51.556052Z"
    }
   },
   "outputs": [],
   "source": [
    "#[Embeds[words_dict[y]] for y in x_train[0] if y in words_dict.keys()]"
   ]
  },
  {
   "cell_type": "code",
   "execution_count": 95,
   "id": "65ce8e8d-aae9-4de9-9cdf-971c5d9bd9b8",
   "metadata": {
    "execution": {
     "iopub.execute_input": "2023-10-27T19:44:51.567412Z",
     "iopub.status.busy": "2023-10-27T19:44:51.567155Z",
     "iopub.status.idle": "2023-10-27T19:44:51.774689Z",
     "shell.execute_reply": "2023-10-27T19:44:51.773861Z",
     "shell.execute_reply.started": "2023-10-27T19:44:51.567392Z"
    }
   },
   "outputs": [
    {
     "name": "stdout",
     "output_type": "stream",
     "text": [
      "0\n",
      "100\n",
      "200\n",
      "300\n",
      "400\n",
      "500\n",
      "600\n",
      "700\n",
      "800\n",
      "900\n",
      "1000\n",
      "1100\n",
      "1200\n",
      "1300\n"
     ]
    }
   ],
   "source": [
    "reviews_embeddings = list()\n",
    "\n",
    "for i, x in enumerate(x_train):\n",
    "    if (i%100) == 0:\n",
    "        print(i)\n",
    "    word_sum = sum([Embeds[words_dict[y]] for y in x if y in words_dict.keys()])\n",
    "    reviews_embeddings.append(word_sum)"
   ]
  },
  {
   "cell_type": "code",
   "execution_count": 96,
   "id": "6012a72b-98a8-4482-b09a-184e7498e47b",
   "metadata": {
    "execution": {
     "iopub.execute_input": "2023-10-27T19:44:51.775856Z",
     "iopub.status.busy": "2023-10-27T19:44:51.775638Z",
     "iopub.status.idle": "2023-10-27T19:44:51.840911Z",
     "shell.execute_reply": "2023-10-27T19:44:51.839872Z",
     "shell.execute_reply.started": "2023-10-27T19:44:51.775840Z"
    }
   },
   "outputs": [],
   "source": [
    "X = pd.DataFrame(reviews_embeddings)\n",
    "y = y_train"
   ]
  },
  {
   "cell_type": "code",
   "execution_count": null,
   "id": "eeb18a81-6568-4a93-a550-d8431811a36b",
   "metadata": {},
   "outputs": [],
   "source": []
  },
  {
   "cell_type": "code",
   "execution_count": 97,
   "id": "bf8acc1b-d5b4-4853-a822-eb30dd8425d9",
   "metadata": {
    "execution": {
     "iopub.execute_input": "2023-10-27T19:44:51.842721Z",
     "iopub.status.busy": "2023-10-27T19:44:51.842214Z",
     "iopub.status.idle": "2023-10-27T19:44:51.854220Z",
     "shell.execute_reply": "2023-10-27T19:44:51.853202Z",
     "shell.execute_reply.started": "2023-10-27T19:44:51.842697Z"
    }
   },
   "outputs": [],
   "source": [
    "x_tr, x_te, y_tr, y_te = train_test_split(X, y, random_state=RANDOM_STATE)\n"
   ]
  },
  {
   "cell_type": "code",
   "execution_count": 73,
   "id": "dd0a684a-0869-41ca-9a0f-3534d6b8e561",
   "metadata": {
    "execution": {
     "iopub.execute_input": "2023-10-27T19:39:48.819379Z",
     "iopub.status.busy": "2023-10-27T19:39:48.819144Z",
     "iopub.status.idle": "2023-10-27T19:40:03.781701Z",
     "shell.execute_reply": "2023-10-27T19:40:03.780749Z",
     "shell.execute_reply.started": "2023-10-27T19:39:48.819355Z"
    },
    "scrolled": true
   },
   "outputs": [
    {
     "name": "stdout",
     "output_type": "stream",
     "text": [
      "0.5914285714285714\n",
      "0.6221428571428571\n"
     ]
    }
   ],
   "source": [
    "model = LogisticRegression(max_iter=10000)\n",
    "\n",
    "model.fit(x_tr, y_tr)\n",
    "\n",
    "preds = model.predict(x_te)\n",
    "print(accuracy_score(preds, y_te))\n",
    "\n",
    "model = LogisticRegression(max_iter=10000)\n",
    "\n",
    "predictions = cross_val_score(model, X, y, cv=KFold(n_splits=5,   shuffle=True, random_state=RANDOM_STATE), scoring='accuracy')\n",
    "print(predictions.mean())"
   ]
  },
  {
   "cell_type": "code",
   "execution_count": 74,
   "id": "3386630a-0f4b-49d5-b9d6-dacaf9340bac",
   "metadata": {
    "execution": {
     "iopub.execute_input": "2023-10-27T19:40:03.786026Z",
     "iopub.status.busy": "2023-10-27T19:40:03.785247Z",
     "iopub.status.idle": "2023-10-27T19:40:04.813826Z",
     "shell.execute_reply": "2023-10-27T19:40:04.812761Z",
     "shell.execute_reply.started": "2023-10-27T19:40:03.785995Z"
    }
   },
   "outputs": [
    {
     "name": "stdout",
     "output_type": "stream",
     "text": [
      "0.6514285714285715\n",
      "0.6442857142857144\n"
     ]
    }
   ],
   "source": [
    "model = SVC()\n",
    "\n",
    "\n",
    "model.fit(x_tr, y_tr)\n",
    "\n",
    "preds = model.predict(x_te)\n",
    "print(accuracy_score(preds, y_te))\n",
    "\n",
    "model = SVC()\n",
    "\n",
    "predictions = cross_val_score(model, X, y, cv=KFold(n_splits=5,   shuffle=True, random_state=RANDOM_STATE), scoring='accuracy')\n",
    "print(predictions.mean())"
   ]
  },
  {
   "cell_type": "code",
   "execution_count": 75,
   "id": "42f02215-eaa2-4289-ad02-05d823f1b899",
   "metadata": {
    "execution": {
     "iopub.execute_input": "2023-10-27T19:40:04.817099Z",
     "iopub.status.busy": "2023-10-27T19:40:04.816884Z",
     "iopub.status.idle": "2023-10-27T19:40:08.882548Z",
     "shell.execute_reply": "2023-10-27T19:40:08.881583Z",
     "shell.execute_reply.started": "2023-10-27T19:40:04.817084Z"
    }
   },
   "outputs": [
    {
     "name": "stdout",
     "output_type": "stream",
     "text": [
      "0.5457142857142857\n",
      "0.5564285714285713\n"
     ]
    }
   ],
   "source": [
    "model = RandomForestClassifier(n_estimators=100)\n",
    "\n",
    "model.fit(x_tr, y_tr)\n",
    "\n",
    "preds = model.predict(x_te)\n",
    "print(accuracy_score(preds, y_te))\n",
    "\n",
    "model = RandomForestClassifier(n_estimators=100)\n",
    "\n",
    "predictions = cross_val_score(model, X, y, cv=KFold(n_splits=5,   shuffle=True, random_state=RANDOM_STATE), scoring='accuracy')\n",
    "print(predictions.mean())"
   ]
  },
  {
   "cell_type": "code",
   "execution_count": 76,
   "id": "fd50aaf1-4a72-41d7-ab6e-7d93533d125d",
   "metadata": {
    "execution": {
     "iopub.execute_input": "2023-10-27T19:40:08.884215Z",
     "iopub.status.busy": "2023-10-27T19:40:08.883586Z",
     "iopub.status.idle": "2023-10-27T19:40:08.934629Z",
     "shell.execute_reply": "2023-10-27T19:40:08.933737Z",
     "shell.execute_reply.started": "2023-10-27T19:40:08.884197Z"
    }
   },
   "outputs": [
    {
     "name": "stdout",
     "output_type": "stream",
     "text": [
      "0.34285714285714286\n",
      "0.3685714285714286\n"
     ]
    }
   ],
   "source": [
    "model = GaussianNB()\n",
    "\n",
    "model.fit(x_tr, y_tr)\n",
    "\n",
    "preds = model.predict(x_te)\n",
    "print(accuracy_score(preds, y_te))\n",
    "\n",
    "model = GaussianNB()\n",
    "\n",
    "predictions = cross_val_score(model, X, y, cv=KFold(n_splits=5,   shuffle=True, random_state=RANDOM_STATE), scoring='accuracy')\n",
    "print(predictions.mean())"
   ]
  },
  {
   "cell_type": "code",
   "execution_count": 77,
   "id": "8dbf8732-dc78-482a-8eef-8f70d2cd0607",
   "metadata": {
    "execution": {
     "iopub.execute_input": "2023-10-27T19:40:08.936162Z",
     "iopub.status.busy": "2023-10-27T19:40:08.935764Z",
     "iopub.status.idle": "2023-10-27T19:40:14.851630Z",
     "shell.execute_reply": "2023-10-27T19:40:14.850703Z",
     "shell.execute_reply.started": "2023-10-27T19:40:08.936142Z"
    }
   },
   "outputs": [
    {
     "name": "stdout",
     "output_type": "stream",
     "text": [
      "0.5457142857142857\n",
      "0.5164285714285715\n"
     ]
    }
   ],
   "source": [
    "model = AdaBoostClassifier()\n",
    "\n",
    "model.fit(x_tr, y_tr)\n",
    "\n",
    "preds = model.predict(x_te)\n",
    "print(accuracy_score(preds, y_te))\n",
    "\n",
    "model = AdaBoostClassifier()\n",
    "\n",
    "predictions = cross_val_score(model, X, y, cv=KFold(n_splits=5,   shuffle=True, random_state=RANDOM_STATE), scoring='accuracy')\n",
    "print(predictions.mean())"
   ]
  },
  {
   "cell_type": "code",
   "execution_count": 78,
   "id": "82c2c93b-7823-4f19-88f4-8185c86eeec6",
   "metadata": {
    "execution": {
     "iopub.execute_input": "2023-10-27T19:40:14.853074Z",
     "iopub.status.busy": "2023-10-27T19:40:14.852563Z",
     "iopub.status.idle": "2023-10-27T19:42:06.075724Z",
     "shell.execute_reply": "2023-10-27T19:42:06.074803Z",
     "shell.execute_reply.started": "2023-10-27T19:40:14.853048Z"
    }
   },
   "outputs": [
    {
     "name": "stdout",
     "output_type": "stream",
     "text": [
      "0.6885714285714286\n",
      "0.6807142857142857\n"
     ]
    }
   ],
   "source": [
    "\n",
    "model = MLPClassifier((1000, 1000),max_iter=2000)#, solver='lbfgs', verbose=True)\n",
    "\n",
    "model.fit(x_tr, y_tr)\n",
    "\n",
    "preds = model.predict(x_te)\n",
    "print(accuracy_score(preds, y_te))\n",
    "\n",
    "model = MLPClassifier((1000, 1000),max_iter=2000)#, solver='lbfgs', verbose=True)\n",
    "\n",
    "predictions = cross_val_score(model, X, y, cv=KFold(n_splits=5,   shuffle=True, random_state=RANDOM_STATE), scoring='accuracy')\n",
    "print(predictions.mean())"
   ]
  },
  {
   "cell_type": "code",
   "execution_count": null,
   "id": "39fbd736-99e1-4d0a-b1c2-4f3192af95c9",
   "metadata": {},
   "outputs": [],
   "source": []
  },
  {
   "cell_type": "code",
   "execution_count": 79,
   "id": "54cd892b-868c-4162-8278-377a56b3578e",
   "metadata": {
    "execution": {
     "iopub.execute_input": "2023-10-27T19:42:06.083009Z",
     "iopub.status.busy": "2023-10-27T19:42:06.079265Z",
     "iopub.status.idle": "2023-10-27T19:42:06.100785Z",
     "shell.execute_reply": "2023-10-27T19:42:06.100036Z",
     "shell.execute_reply.started": "2023-10-27T19:42:06.082974Z"
    }
   },
   "outputs": [],
   "source": [
    "from sklearn.preprocessing import StandardScaler\n",
    "\n",
    "ss = StandardScaler()\n",
    "x_tr = ss.fit_transform(x_tr)\n",
    "x_te = ss.transform(x_te)"
   ]
  },
  {
   "cell_type": "code",
   "execution_count": 80,
   "id": "eb939d82-f79a-4272-a89a-4c1b25c2fbf9",
   "metadata": {
    "execution": {
     "iopub.execute_input": "2023-10-27T19:42:06.105127Z",
     "iopub.status.busy": "2023-10-27T19:42:06.104347Z",
     "iopub.status.idle": "2023-10-27T19:42:06.140087Z",
     "shell.execute_reply": "2023-10-27T19:42:06.135788Z",
     "shell.execute_reply.started": "2023-10-27T19:42:06.105089Z"
    }
   },
   "outputs": [],
   "source": [
    "#x_tr"
   ]
  },
  {
   "cell_type": "code",
   "execution_count": 81,
   "id": "d36c5f01-d27e-4058-a251-17126f935d6c",
   "metadata": {
    "execution": {
     "iopub.execute_input": "2023-10-27T19:42:06.148663Z",
     "iopub.status.busy": "2023-10-27T19:42:06.144052Z",
     "iopub.status.idle": "2023-10-27T19:42:16.570719Z",
     "shell.execute_reply": "2023-10-27T19:42:16.569745Z",
     "shell.execute_reply.started": "2023-10-27T19:42:06.148619Z"
    },
    "scrolled": true
   },
   "outputs": [
    {
     "name": "stdout",
     "output_type": "stream",
     "text": [
      "0.6514285714285715\n",
      "0.6221428571428571\n"
     ]
    }
   ],
   "source": [
    "model = LogisticRegression(max_iter=10000)\n",
    "\n",
    "model.fit(x_tr, y_tr)\n",
    "\n",
    "preds = model.predict(x_te)\n",
    "print(accuracy_score(preds, y_te))\n",
    "\n",
    "model = LogisticRegression(max_iter=10000)\n",
    "\n",
    "predictions = cross_val_score(model, X, y, cv=KFold(n_splits=5,   shuffle=True, random_state=RANDOM_STATE), scoring='accuracy')\n",
    "print(predictions.mean())"
   ]
  },
  {
   "cell_type": "code",
   "execution_count": 82,
   "id": "adb30871-ee9b-4226-b3ab-1915121349a7",
   "metadata": {
    "execution": {
     "iopub.execute_input": "2023-10-27T19:42:16.571942Z",
     "iopub.status.busy": "2023-10-27T19:42:16.571628Z",
     "iopub.status.idle": "2023-10-27T19:42:17.546169Z",
     "shell.execute_reply": "2023-10-27T19:42:17.545294Z",
     "shell.execute_reply.started": "2023-10-27T19:42:16.571915Z"
    }
   },
   "outputs": [
    {
     "name": "stdout",
     "output_type": "stream",
     "text": [
      "0.6571428571428571\n",
      "0.6442857142857144\n"
     ]
    }
   ],
   "source": [
    "model = SVC()\n",
    "\n",
    "\n",
    "model.fit(x_tr, y_tr)\n",
    "\n",
    "preds = model.predict(x_te)\n",
    "print(accuracy_score(preds, y_te))\n",
    "\n",
    "model = SVC()\n",
    "\n",
    "predictions = cross_val_score(model, X, y, cv=KFold(n_splits=5,   shuffle=True, random_state=RANDOM_STATE), scoring='accuracy')\n",
    "print(predictions.mean())"
   ]
  },
  {
   "cell_type": "code",
   "execution_count": 83,
   "id": "b9b2efe4-e2e5-4172-92d7-facc2af495b8",
   "metadata": {
    "execution": {
     "iopub.execute_input": "2023-10-27T19:42:17.547402Z",
     "iopub.status.busy": "2023-10-27T19:42:17.547149Z",
     "iopub.status.idle": "2023-10-27T19:42:21.558664Z",
     "shell.execute_reply": "2023-10-27T19:42:21.557990Z",
     "shell.execute_reply.started": "2023-10-27T19:42:17.547388Z"
    }
   },
   "outputs": [
    {
     "name": "stdout",
     "output_type": "stream",
     "text": [
      "0.5714285714285714\n",
      "0.5664285714285715\n"
     ]
    }
   ],
   "source": [
    "model = RandomForestClassifier(n_estimators=100)\n",
    "\n",
    "model.fit(x_tr, y_tr)\n",
    "\n",
    "preds = model.predict(x_te)\n",
    "print(accuracy_score(preds, y_te))\n",
    "\n",
    "model = RandomForestClassifier(n_estimators=100)\n",
    "\n",
    "predictions = cross_val_score(model, X, y, cv=KFold(n_splits=5,   shuffle=True, random_state=RANDOM_STATE), scoring='accuracy')\n",
    "print(predictions.mean())"
   ]
  },
  {
   "cell_type": "code",
   "execution_count": 84,
   "id": "bf7e9b8b-dd6e-47d9-a22e-09ab920a6950",
   "metadata": {
    "execution": {
     "iopub.execute_input": "2023-10-27T19:42:21.559922Z",
     "iopub.status.busy": "2023-10-27T19:42:21.559680Z",
     "iopub.status.idle": "2023-10-27T19:42:21.611958Z",
     "shell.execute_reply": "2023-10-27T19:42:21.611128Z",
     "shell.execute_reply.started": "2023-10-27T19:42:21.559902Z"
    }
   },
   "outputs": [
    {
     "name": "stdout",
     "output_type": "stream",
     "text": [
      "0.34285714285714286\n",
      "0.3685714285714286\n"
     ]
    }
   ],
   "source": [
    "model = GaussianNB()\n",
    "\n",
    "model.fit(x_tr, y_tr)\n",
    "\n",
    "preds = model.predict(x_te)\n",
    "print(accuracy_score(preds, y_te))\n",
    "\n",
    "model = GaussianNB()\n",
    "\n",
    "predictions = cross_val_score(model, X, y, cv=KFold(n_splits=5,   shuffle=True, random_state=RANDOM_STATE), scoring='accuracy')\n",
    "print(predictions.mean())"
   ]
  },
  {
   "cell_type": "code",
   "execution_count": 85,
   "id": "c1cd6a1b-dbe2-431e-a3db-6bb11cb94c10",
   "metadata": {
    "execution": {
     "iopub.execute_input": "2023-10-27T19:42:21.613393Z",
     "iopub.status.busy": "2023-10-27T19:42:21.612928Z",
     "iopub.status.idle": "2023-10-27T19:42:27.267278Z",
     "shell.execute_reply": "2023-10-27T19:42:27.266322Z",
     "shell.execute_reply.started": "2023-10-27T19:42:21.613369Z"
    }
   },
   "outputs": [
    {
     "name": "stdout",
     "output_type": "stream",
     "text": [
      "0.5457142857142857\n",
      "0.5164285714285715\n"
     ]
    }
   ],
   "source": [
    "model = AdaBoostClassifier()\n",
    "\n",
    "model.fit(x_tr, y_tr)\n",
    "\n",
    "preds = model.predict(x_te)\n",
    "print(accuracy_score(preds, y_te))\n",
    "\n",
    "model = AdaBoostClassifier()\n",
    "\n",
    "predictions = cross_val_score(model, X, y, cv=KFold(n_splits=5,   shuffle=True, random_state=RANDOM_STATE), scoring='accuracy')\n",
    "print(predictions.mean())"
   ]
  },
  {
   "cell_type": "code",
   "execution_count": 98,
   "id": "b103f7f0-eae5-4350-867b-b76e750702c9",
   "metadata": {
    "execution": {
     "iopub.execute_input": "2023-10-27T22:20:28.748172Z",
     "iopub.status.busy": "2023-10-27T22:20:28.739473Z",
     "iopub.status.idle": "2023-10-27T22:22:05.399939Z",
     "shell.execute_reply": "2023-10-27T22:22:05.395545Z",
     "shell.execute_reply.started": "2023-10-27T22:20:28.746091Z"
    }
   },
   "outputs": [
    {
     "name": "stdout",
     "output_type": "stream",
     "text": [
      "0.6914285714285714\n",
      "0.68\n"
     ]
    }
   ],
   "source": [
    "\n",
    "model = MLPClassifier((1000, 1000),max_iter=2000)#, solver='lbfgs', verbose=True)\n",
    "\n",
    "model.fit(x_tr, y_tr)\n",
    "\n",
    "preds = model.predict(x_te)\n",
    "print(accuracy_score(preds, y_te))\n",
    "\n",
    "model = MLPClassifier((1000, 1000),max_iter=2000)#, solver='lbfgs', verbose=True)\n",
    "\n",
    "predictions = cross_val_score(model, X, y, cv=KFold(n_splits=5,   shuffle=True, random_state=RANDOM_STATE), scoring='accuracy')\n",
    "print(predictions.mean())"
   ]
  },
  {
   "cell_type": "code",
   "execution_count": null,
   "id": "9651d82d-4bcd-4e81-bfb6-865cf7dfbc79",
   "metadata": {},
   "outputs": [],
   "source": []
  }
 ],
 "metadata": {
  "kernelspec": {
   "display_name": "LN-kernel",
   "language": "python",
   "name": "ln-kernel"
  },
  "language_info": {
   "codemirror_mode": {
    "name": "ipython",
    "version": 3
   },
   "file_extension": ".py",
   "mimetype": "text/x-python",
   "name": "python",
   "nbconvert_exporter": "python",
   "pygments_lexer": "ipython3",
   "version": "3.8.16"
  }
 },
 "nbformat": 4,
 "nbformat_minor": 5
}
