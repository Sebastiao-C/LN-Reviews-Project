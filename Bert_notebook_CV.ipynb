{
 "cells": [
  {
   "cell_type": "markdown",
   "id": "51583355-75de-4e70-a15f-37a32740d3ed",
   "metadata": {},
   "source": [
    "# SET FOLD FOR CV-FOLDS"
   ]
  },
  {
   "cell_type": "code",
   "execution_count": 1,
   "id": "00f2842e-6f44-40dd-ad34-6e7ca5a3f8ed",
   "metadata": {
    "execution": {
     "iopub.execute_input": "2023-10-27T18:46:01.996955Z",
     "iopub.status.busy": "2023-10-27T18:46:01.996795Z",
     "iopub.status.idle": "2023-10-27T18:46:02.003780Z",
     "shell.execute_reply": "2023-10-27T18:46:02.003001Z",
     "shell.execute_reply.started": "2023-10-27T18:46:01.996937Z"
    }
   },
   "outputs": [],
   "source": [
    "FOLD = 0"
   ]
  },
  {
   "cell_type": "markdown",
   "id": "7dd4f335-9dfb-4069-b13d-56dfc4f738f7",
   "metadata": {
    "execution": {
     "iopub.execute_input": "2023-10-27T18:44:42.389970Z",
     "iopub.status.busy": "2023-10-27T18:44:42.389324Z",
     "iopub.status.idle": "2023-10-27T18:44:42.395647Z",
     "shell.execute_reply": "2023-10-27T18:44:42.395004Z",
     "shell.execute_reply.started": "2023-10-27T18:44:42.389938Z"
    }
   },
   "source": [
    "# Imports"
   ]
  },
  {
   "cell_type": "code",
   "execution_count": 2,
   "id": "c077f74e-41e3-423a-a061-f696da44bbca",
   "metadata": {
    "execution": {
     "iopub.execute_input": "2023-10-27T18:46:02.005136Z",
     "iopub.status.busy": "2023-10-27T18:46:02.004856Z",
     "iopub.status.idle": "2023-10-27T18:46:07.291856Z",
     "shell.execute_reply": "2023-10-27T18:46:07.290998Z",
     "shell.execute_reply.started": "2023-10-27T18:46:02.005123Z"
    }
   },
   "outputs": [
    {
     "name": "stderr",
     "output_type": "stream",
     "text": [
      "/home/sebas/.virtualenvs/DL/lib/python3.8/site-packages/tqdm/auto.py:21: TqdmWarning: IProgress not found. Please update jupyter and ipywidgets. See https://ipywidgets.readthedocs.io/en/stable/user_install.html\n",
      "  from .autonotebook import tqdm as notebook_tqdm\n"
     ]
    }
   ],
   "source": [
    "import torch\n",
    "import matplotlib.pyplot as plt\n",
    "import pandas as pd\n",
    "import numpy as np\n",
    "import math \n",
    "import string\n",
    "import re\n",
    "from sklearn.pipeline import Pipeline\n",
    "from nltk.tokenize import wordpunct_tokenize\n",
    "import nltk\n",
    "from transformers import AutoTokenizer\n",
    "from datasets import Dataset"
   ]
  },
  {
   "cell_type": "markdown",
   "id": "31d4c6a4-96d4-4059-8da7-ad055702bdbf",
   "metadata": {},
   "source": [
    "# Initial reviews processing"
   ]
  },
  {
   "cell_type": "code",
   "execution_count": 3,
   "id": "b44393f0-c776-4279-9a8f-32135c3f92a4",
   "metadata": {
    "execution": {
     "iopub.execute_input": "2023-10-27T18:46:07.292861Z",
     "iopub.status.busy": "2023-10-27T18:46:07.292558Z",
     "iopub.status.idle": "2023-10-27T18:46:07.320787Z",
     "shell.execute_reply": "2023-10-27T18:46:07.320071Z",
     "shell.execute_reply.started": "2023-10-27T18:46:07.292845Z"
    }
   },
   "outputs": [],
   "source": [
    "lines = list()\n",
    "\n",
    "with open(\"train.txt\", \"r\") as fp:\n",
    "    lines = fp.readlines()"
   ]
  },
  {
   "cell_type": "code",
   "execution_count": 4,
   "id": "a9333c1e-9c23-4852-8716-8ec419f2f6d1",
   "metadata": {
    "execution": {
     "iopub.execute_input": "2023-10-27T18:46:07.321763Z",
     "iopub.status.busy": "2023-10-27T18:46:07.321578Z",
     "iopub.status.idle": "2023-10-27T18:46:07.327448Z",
     "shell.execute_reply": "2023-10-27T18:46:07.326718Z",
     "shell.execute_reply.started": "2023-10-27T18:46:07.321749Z"
    }
   },
   "outputs": [
    {
     "data": {
      "text/plain": [
       "'!\"#$%&\\'()*+,-./:;<=>?@[\\\\]^_`{|}~'"
      ]
     },
     "execution_count": 4,
     "metadata": {},
     "output_type": "execute_result"
    }
   ],
   "source": [
    "string.punctuation"
   ]
  },
  {
   "cell_type": "markdown",
   "id": "866faad7-6819-48b0-932f-81279f77b09b",
   "metadata": {},
   "source": [
    "## Separate reviews and target, white space segmentation and nltk tokenization"
   ]
  },
  {
   "cell_type": "code",
   "execution_count": 5,
   "id": "df78f428-7818-437f-bad7-88ddbe08fb9a",
   "metadata": {
    "execution": {
     "iopub.execute_input": "2023-10-27T18:46:07.328512Z",
     "iopub.status.busy": "2023-10-27T18:46:07.328330Z",
     "iopub.status.idle": "2023-10-27T18:46:07.396993Z",
     "shell.execute_reply": "2023-10-27T18:46:07.396324Z",
     "shell.execute_reply.started": "2023-10-27T18:46:07.328494Z"
    }
   },
   "outputs": [],
   "source": [
    "y_train = [x.lower().split('\\t')[0] for x in lines]\n",
    "x_train = [''.join(x.lower().split('\\t')[1:]) for x in lines]\n",
    "x_train = [wordpunct_tokenize(x) for x in x_train]"
   ]
  },
  {
   "cell_type": "code",
   "execution_count": 6,
   "id": "f025d433-f249-4983-b01a-4179a1224480",
   "metadata": {
    "execution": {
     "iopub.execute_input": "2023-10-27T18:46:07.397893Z",
     "iopub.status.busy": "2023-10-27T18:46:07.397734Z",
     "iopub.status.idle": "2023-10-27T18:46:07.401626Z",
     "shell.execute_reply": "2023-10-27T18:46:07.400987Z",
     "shell.execute_reply.started": "2023-10-27T18:46:07.397881Z"
    }
   },
   "outputs": [],
   "source": [
    "labels = set(y_train)"
   ]
  },
  {
   "cell_type": "code",
   "execution_count": null,
   "id": "5d88c51b-d57c-4cfd-8d26-58b3e3cd5cb6",
   "metadata": {},
   "outputs": [],
   "source": []
  },
  {
   "cell_type": "markdown",
   "id": "3a0b750d-715c-4106-a669-c6168dc44434",
   "metadata": {},
   "source": [
    "# Pre-trained Bert import, re-structuring data for package classes and functions"
   ]
  },
  {
   "cell_type": "markdown",
   "id": "d12cd2a6-10a5-4028-8fa0-b7356f67e9a2",
   "metadata": {},
   "source": [
    "## Import model"
   ]
  },
  {
   "cell_type": "code",
   "execution_count": 7,
   "id": "2a3e1be4-16ef-43c7-8a60-3d106cd067bb",
   "metadata": {
    "execution": {
     "iopub.execute_input": "2023-10-27T18:46:07.403804Z",
     "iopub.status.busy": "2023-10-27T18:46:07.403408Z",
     "iopub.status.idle": "2023-10-27T18:46:07.412309Z",
     "shell.execute_reply": "2023-10-27T18:46:07.411536Z",
     "shell.execute_reply.started": "2023-10-27T18:46:07.403771Z"
    }
   },
   "outputs": [],
   "source": [
    "model_checkpoint = \"bert-base-uncased\"\n",
    "batch_size = 8"
   ]
  },
  {
   "cell_type": "code",
   "execution_count": 8,
   "id": "8b12c610-2c05-481f-bc6c-4c8860749476",
   "metadata": {
    "execution": {
     "iopub.execute_input": "2023-10-27T18:46:07.414416Z",
     "iopub.status.busy": "2023-10-27T18:46:07.413926Z",
     "iopub.status.idle": "2023-10-27T18:46:10.657096Z",
     "shell.execute_reply": "2023-10-27T18:46:10.656071Z",
     "shell.execute_reply.started": "2023-10-27T18:46:07.414395Z"
    }
   },
   "outputs": [
    {
     "name": "stderr",
     "output_type": "stream",
     "text": [
      "Some weights of BertForMultipleChoice were not initialized from the model checkpoint at bert-base-uncased and are newly initialized: ['classifier.weight', 'classifier.bias']\n",
      "You should probably TRAIN this model on a down-stream task to be able to use it for predictions and inference.\n"
     ]
    }
   ],
   "source": [
    "from transformers import AutoModelForMultipleChoice, TrainingArguments, Trainer\n",
    "\n",
    "model = AutoModelForMultipleChoice.from_pretrained(model_checkpoint)"
   ]
  },
  {
   "cell_type": "markdown",
   "id": "85881ad5-166d-46ea-830e-d17cf329cc9b",
   "metadata": {},
   "source": [
    "## Get possible labels"
   ]
  },
  {
   "cell_type": "code",
   "execution_count": 9,
   "id": "92f9d833-79cd-4580-a8a7-1b571327ce30",
   "metadata": {
    "execution": {
     "iopub.execute_input": "2023-10-27T18:46:10.658551Z",
     "iopub.status.busy": "2023-10-27T18:46:10.658282Z",
     "iopub.status.idle": "2023-10-27T18:46:10.664575Z",
     "shell.execute_reply": "2023-10-27T18:46:10.663754Z",
     "shell.execute_reply.started": "2023-10-27T18:46:10.658534Z"
    }
   },
   "outputs": [
    {
     "data": {
      "text/plain": [
       "{'deceptivenegative',\n",
       " 'deceptivepositive',\n",
       " 'truthfulnegative',\n",
       " 'truthfulpositive'}"
      ]
     },
     "execution_count": 9,
     "metadata": {},
     "output_type": "execute_result"
    }
   ],
   "source": [
    "id2label = {idx:label for idx, label in enumerate(labels)}\n",
    "label2id = {label:idx for idx, label in enumerate(labels)}\n",
    "labels"
   ]
  },
  {
   "cell_type": "code",
   "execution_count": 10,
   "id": "5cef2f80-03d6-40c4-9e99-26f28e7e2f0c",
   "metadata": {
    "execution": {
     "iopub.execute_input": "2023-10-27T18:46:10.665971Z",
     "iopub.status.busy": "2023-10-27T18:46:10.665410Z",
     "iopub.status.idle": "2023-10-27T18:46:10.675286Z",
     "shell.execute_reply": "2023-10-27T18:46:10.674429Z",
     "shell.execute_reply.started": "2023-10-27T18:46:10.665954Z"
    }
   },
   "outputs": [
    {
     "data": {
      "text/plain": [
       "{0: 'truthfulpositive',\n",
       " 1: 'truthfulnegative',\n",
       " 2: 'deceptivepositive',\n",
       " 3: 'deceptivenegative'}"
      ]
     },
     "execution_count": 10,
     "metadata": {},
     "output_type": "execute_result"
    }
   ],
   "source": [
    "id2label"
   ]
  },
  {
   "cell_type": "markdown",
   "id": "f07b6823-8465-4499-969a-05c530f5e4bb",
   "metadata": {},
   "source": [
    "## Handle data format and CV splits"
   ]
  },
  {
   "cell_type": "code",
   "execution_count": 11,
   "id": "23b96584-cec1-40b5-ba8d-b2dc661c6e2b",
   "metadata": {
    "execution": {
     "iopub.execute_input": "2023-10-27T18:46:10.676441Z",
     "iopub.status.busy": "2023-10-27T18:46:10.676204Z",
     "iopub.status.idle": "2023-10-27T18:46:10.689824Z",
     "shell.execute_reply": "2023-10-27T18:46:10.688899Z",
     "shell.execute_reply.started": "2023-10-27T18:46:10.676419Z"
    }
   },
   "outputs": [],
   "source": [
    "df_all = pd.DataFrame([' '.join(x) for x in x_train], columns=['text'])"
   ]
  },
  {
   "cell_type": "code",
   "execution_count": 12,
   "id": "48dc0a4b-1f7b-4296-956f-38b59bbf29c8",
   "metadata": {
    "execution": {
     "iopub.execute_input": "2023-10-27T18:46:10.690791Z",
     "iopub.status.busy": "2023-10-27T18:46:10.690604Z",
     "iopub.status.idle": "2023-10-27T18:46:10.700376Z",
     "shell.execute_reply": "2023-10-27T18:46:10.699720Z",
     "shell.execute_reply.started": "2023-10-27T18:46:10.690777Z"
    }
   },
   "outputs": [],
   "source": [
    "yt = pd.DataFrame(y_train)\n",
    "yt_np = np.array(y_train)"
   ]
  },
  {
   "cell_type": "markdown",
   "id": "93529fa8-d62f-4970-9a16-83a9905c62ee",
   "metadata": {
    "execution": {
     "iopub.execute_input": "2023-10-27T18:08:19.284183Z",
     "iopub.status.busy": "2023-10-27T18:08:19.283607Z",
     "iopub.status.idle": "2023-10-27T18:08:19.303826Z",
     "shell.execute_reply": "2023-10-27T18:08:19.303177Z",
     "shell.execute_reply.started": "2023-10-27T18:08:19.284139Z"
    }
   },
   "source": [
    "idx = np.random.permutation(df_all.index)\n",
    "df_all = df_all.reindex(idx)\n",
    "y_train = yt.reindex(idx)\n",
    "\n",
    "df_train = df_all.iloc[:1000]\n",
    "df_val = df_all.iloc[1000:]\n",
    "\n",
    "y_val = y_train.iloc[1000:]\n",
    "y_train = y_train.iloc[:1000]\n",
    "\n",
    "\n",
    "df_train.head()"
   ]
  },
  {
   "cell_type": "markdown",
   "id": "b8f2dea7-2db5-4471-84a1-dc12cdd0d4d8",
   "metadata": {
    "execution": {
     "iopub.execute_input": "2023-10-27T18:08:19.305368Z",
     "iopub.status.busy": "2023-10-27T18:08:19.305184Z",
     "iopub.status.idle": "2023-10-27T18:08:19.313765Z",
     "shell.execute_reply": "2023-10-27T18:08:19.312899Z",
     "shell.execute_reply.started": "2023-10-27T18:08:19.305354Z"
    }
   },
   "source": [
    "def divide_chunks(l, n): \n",
    "      \n",
    "    # looping till length l \n",
    "    for i in range(0, len(l), n):  \n",
    "        yield l[i:i + n] \n",
    "  "
   ]
  },
  {
   "cell_type": "code",
   "execution_count": 13,
   "id": "74ed2d3e-d45e-4e7d-81d3-223f3ab75352",
   "metadata": {
    "execution": {
     "iopub.execute_input": "2023-10-27T18:46:10.701742Z",
     "iopub.status.busy": "2023-10-27T18:46:10.701183Z",
     "iopub.status.idle": "2023-10-27T18:46:10.709796Z",
     "shell.execute_reply": "2023-10-27T18:46:10.709065Z",
     "shell.execute_reply.started": "2023-10-27T18:46:10.701724Z"
    }
   },
   "outputs": [],
   "source": [
    "#df_all.iloc[[1,2,3:7]]"
   ]
  },
  {
   "cell_type": "code",
   "execution_count": 14,
   "id": "60a97c03-3994-470d-922e-b534b0de513a",
   "metadata": {
    "execution": {
     "iopub.execute_input": "2023-10-27T18:46:10.711220Z",
     "iopub.status.busy": "2023-10-27T18:46:10.710794Z",
     "iopub.status.idle": "2023-10-27T18:46:10.725717Z",
     "shell.execute_reply": "2023-10-27T18:46:10.724792Z",
     "shell.execute_reply.started": "2023-10-27T18:46:10.711201Z"
    }
   },
   "outputs": [],
   "source": [
    "idx = np.random.RandomState(seed=42).permutation(df_all.index)\n",
    "df_all = df_all.reindex(idx)\n",
    "y_train = yt.reindex(idx)\n",
    "\n",
    "x_trains = list()\n",
    "y_trains = list()\n",
    "\n",
    "N = 5\n",
    "\n",
    "for var in range(N):\n",
    "    len_fold = 1400/N\n",
    "    x_trains.append((df_all.iloc[var*int(len_fold):(var+1)*int(len_fold)], df_all.iloc[np.r_[0:int(var*len_fold) , int((var+1)*len_fold):1400]] ))\n",
    "    y_trains.append((y_train.iloc[var*int(len_fold):(var+1)*int(len_fold)], y_train.iloc[np.r_[0:int(var*len_fold), int((var+1)*len_fold):1400]] ))\n",
    "\n",
    "#x_trains = list(divide_chunks(df_all, 280))\n",
    "#y_trains = list(divide_chunks(y_train, 280))"
   ]
  },
  {
   "cell_type": "code",
   "execution_count": null,
   "id": "2c2dc574-f051-4763-a66a-d5846e3f73b8",
   "metadata": {
    "execution": {
     "iopub.status.busy": "2023-10-27T19:11:19.365482Z",
     "iopub.status.idle": "2023-10-27T19:11:19.365700Z",
     "shell.execute_reply": "2023-10-27T19:11:19.365614Z",
     "shell.execute_reply.started": "2023-10-27T19:11:19.365605Z"
    },
    "scrolled": true
   },
   "outputs": [],
   "source": [
    "#y_trains[3]"
   ]
  },
  {
   "cell_type": "markdown",
   "id": "0f532578-e25a-4419-8f19-c3ba9a326f57",
   "metadata": {
    "execution": {
     "iopub.execute_input": "2023-10-27T16:55:52.264537Z",
     "iopub.status.busy": "2023-10-27T16:55:52.263938Z",
     "iopub.status.idle": "2023-10-27T16:55:52.465289Z",
     "shell.execute_reply": "2023-10-27T16:55:52.464369Z",
     "shell.execute_reply.started": "2023-10-27T16:55:52.264503Z"
    },
    "scrolled": true
   },
   "source": [
    "df_aux = df_train.copy()\n",
    "curr_size = 1400\n",
    "for el in df_aux.iterrows():\n",
    "    print(el[0])\n",
    "    length = 128\n",
    "    while length + 256 < len(el[1]['text'].split(' ')):\n",
    "        tex = el[1]['text'].split(' ')[length:length+256]\n",
    "        #print(el[1]['text'])\n",
    "        #print('len', len(el[1]['text'].split(' ')))\n",
    "        #print(df_train.loc[el[0], 'text'])\n",
    "        df_train.loc[el[0], 'text'] = ' '.join(el[1]['text'].split(' ')[:256])\n",
    "        #print(df_train.loc[el[0], 'text'])\n",
    "        new_df = pd.DataFrame(pd.Series({'text': ' '.join(tex)}, name = curr_size))\n",
    "        #print(new_df.transpose())\n",
    "        df_train = pd.concat([df_train, new_df.transpose()], ignore_index=False)\n",
    "        new_df = pd.DataFrame(pd.Series(y_train.loc[el[0]], name = curr_size))\n",
    "        print(new_df)#.transpose())\n",
    "        y_train = pd.concat([y_train, new_df.transpose()], ignore_index=False)\n",
    "        curr_size += 1\n",
    "        length += 128\n",
    "    "
   ]
  },
  {
   "cell_type": "code",
   "execution_count": null,
   "id": "6bc95f39-2dd5-4124-9808-33e94cd9bf58",
   "metadata": {
    "execution": {
     "iopub.status.busy": "2023-10-27T19:11:19.366851Z",
     "iopub.status.idle": "2023-10-27T19:11:19.367062Z",
     "shell.execute_reply": "2023-10-27T19:11:19.366976Z",
     "shell.execute_reply.started": "2023-10-27T19:11:19.366967Z"
    }
   },
   "outputs": [],
   "source": [
    "#y_trains[0][0]"
   ]
  },
  {
   "cell_type": "markdown",
   "id": "5166da0f-77cd-4e8f-bdac-130c2d450320",
   "metadata": {},
   "source": [
    "### Get the splits and format for tokenization and padding"
   ]
  },
  {
   "cell_type": "code",
   "execution_count": null,
   "id": "7558e31b-26fa-4475-8d8c-fa3f7596d034",
   "metadata": {},
   "outputs": [],
   "source": [
    "df_ = x_trains[FOLD] \n",
    "y_ = y_trains[FOLD]\n",
    "\n",
    "df_train = df_[1]\n",
    "df_val = df_[0]\n",
    "y_train = y_[1]\n",
    "y_val = y_[0]\n",
    "print(len(df_train))\n",
    "print(len(df_val))\n",
    "print(len(y_train))\n",
    "print(len(y_val))\n",
    "\n",
    "_dct_train = df_train.to_dict()\n",
    "_dct_train['text'] = list(_dct_train['text'].values())\n",
    "_dct_train['label'] = y_train.apply(lambda x: label2id[x[0]], axis=1)\n",
    "\n",
    "_dataset_train =  Dataset.from_dict(_dct_train)\n",
    "\n",
    "_dct_val = df_val.to_dict()\n",
    "_dct_val['text'] = list(_dct_val['text'].values())\n",
    "_dct_val['label'] = y_val.apply(lambda x: label2id[x[0]], axis=1)\n",
    "\n",
    "\n",
    "_dataset_val =  Dataset.from_dict(_dct_val)\n",
    "\n",
    "_dataset_dct = dict()\n",
    "_dataset_dct['train'] = _dataset_train\n",
    "_dataset_dct['val'] = _dataset_val"
   ]
  },
  {
   "cell_type": "markdown",
   "id": "c5c05301-5a7f-4092-b163-f61b7b5a894e",
   "metadata": {},
   "source": [
    "### Tokenization, padding and further formatting"
   ]
  },
  {
   "cell_type": "code",
   "execution_count": null,
   "id": "d4da925c-2e02-4d80-b628-d2801ea4fa2f",
   "metadata": {},
   "outputs": [],
   "source": [
    "#_dataset_train[2]\n",
    "\n",
    "tokenizer = AutoTokenizer.from_pretrained(\"bert-base-uncased\")\n",
    "\n",
    "\n",
    "def preprocess_function(examples):\n",
    "    return tokenizer(examples[\"text\"], truncation=True, max_length=256)\n",
    "\n",
    "tokenized_train = _dataset_train.map(preprocess_function, batched=True)\n",
    "tokenized_val = _dataset_val.map(preprocess_function, batched=True)\n",
    "\n",
    "\n",
    "#tokenized_val[0]\n",
    "\n",
    "from transformers import DataCollatorWithPadding\n",
    "\n",
    "data_collator = DataCollatorWithPadding(tokenizer=tokenizer, padding='max_length', max_length=256)"
   ]
  },
  {
   "cell_type": "markdown",
   "id": "3fd53fe5-8067-4f2d-8e29-6b9d08b3fd58",
   "metadata": {},
   "source": [
    "# Bert fine-tuning on reviews for classification"
   ]
  },
  {
   "cell_type": "code",
   "execution_count": 17,
   "id": "49c8ebda-80f8-4e70-aed5-55ed9e3fc92d",
   "metadata": {
    "execution": {
     "iopub.execute_input": "2023-10-27T18:46:10.754601Z",
     "iopub.status.busy": "2023-10-27T18:46:10.754053Z",
     "iopub.status.idle": "2023-10-27T19:11:18.863334Z",
     "shell.execute_reply": "2023-10-27T19:11:18.860386Z",
     "shell.execute_reply.started": "2023-10-27T18:46:10.754582Z"
    }
   },
   "outputs": [
    {
     "name": "stdout",
     "output_type": "stream",
     "text": [
      "1120\n",
      "280\n",
      "1120\n",
      "280\n"
     ]
    },
    {
     "name": "stderr",
     "output_type": "stream",
     "text": [
      "Map: 100%|█████████████████████████████████████████████████████████████████| 1120/1120 [00:00<00:00, 3988.36 examples/s]\n",
      "Map: 100%|██████████████████████████████████████████████████████████████████| 280/280 [00:00<00:00, 10494.29 examples/s]\n",
      "Some weights of BertForSequenceClassification were not initialized from the model checkpoint at bert-base-uncased and are newly initialized: ['classifier.weight', 'classifier.bias']\n",
      "You should probably TRAIN this model on a down-stream task to be able to use it for predictions and inference.\n",
      "You're using a BertTokenizerFast tokenizer. Please note that with a fast tokenizer, using the `__call__` method is faster than using a method to encode the text followed by a call to the `pad` method to get a padded encoding.\n"
     ]
    },
    {
     "data": {
      "text/html": [
       "\n",
       "    <div>\n",
       "      \n",
       "      <progress value='1400' max='1400' style='width:300px; height:20px; vertical-align: middle;'></progress>\n",
       "      [1400/1400 24:30, Epoch 10/10]\n",
       "    </div>\n",
       "    <table border=\"1\" class=\"dataframe\">\n",
       "  <thead>\n",
       " <tr style=\"text-align: left;\">\n",
       "      <th>Epoch</th>\n",
       "      <th>Training Loss</th>\n",
       "      <th>Validation Loss</th>\n",
       "      <th>Accuracy</th>\n",
       "    </tr>\n",
       "  </thead>\n",
       "  <tbody>\n",
       "    <tr>\n",
       "      <td>1</td>\n",
       "      <td>No log</td>\n",
       "      <td>0.641264</td>\n",
       "      <td>0.682143</td>\n",
       "    </tr>\n",
       "    <tr>\n",
       "      <td>2</td>\n",
       "      <td>No log</td>\n",
       "      <td>0.607631</td>\n",
       "      <td>0.767857</td>\n",
       "    </tr>\n",
       "    <tr>\n",
       "      <td>3</td>\n",
       "      <td>No log</td>\n",
       "      <td>0.604982</td>\n",
       "      <td>0.825000</td>\n",
       "    </tr>\n",
       "    <tr>\n",
       "      <td>4</td>\n",
       "      <td>0.428900</td>\n",
       "      <td>0.726160</td>\n",
       "      <td>0.821429</td>\n",
       "    </tr>\n",
       "    <tr>\n",
       "      <td>5</td>\n",
       "      <td>0.428900</td>\n",
       "      <td>1.038088</td>\n",
       "      <td>0.803571</td>\n",
       "    </tr>\n",
       "    <tr>\n",
       "      <td>6</td>\n",
       "      <td>0.428900</td>\n",
       "      <td>0.993479</td>\n",
       "      <td>0.807143</td>\n",
       "    </tr>\n",
       "    <tr>\n",
       "      <td>7</td>\n",
       "      <td>0.428900</td>\n",
       "      <td>1.087021</td>\n",
       "      <td>0.810714</td>\n",
       "    </tr>\n",
       "    <tr>\n",
       "      <td>8</td>\n",
       "      <td>0.029200</td>\n",
       "      <td>1.041316</td>\n",
       "      <td>0.814286</td>\n",
       "    </tr>\n",
       "    <tr>\n",
       "      <td>9</td>\n",
       "      <td>0.029200</td>\n",
       "      <td>1.024258</td>\n",
       "      <td>0.817857</td>\n",
       "    </tr>\n",
       "    <tr>\n",
       "      <td>10</td>\n",
       "      <td>0.029200</td>\n",
       "      <td>1.000142</td>\n",
       "      <td>0.821429</td>\n",
       "    </tr>\n",
       "  </tbody>\n",
       "</table><p>"
      ],
      "text/plain": [
       "<IPython.core.display.HTML object>"
      ]
     },
     "metadata": {},
     "output_type": "display_data"
    },
    {
     "data": {
      "text/html": [
       "\n",
       "    <div>\n",
       "      \n",
       "      <progress value='35' max='35' style='width:300px; height:20px; vertical-align: middle;'></progress>\n",
       "      [35/35 00:12]\n",
       "    </div>\n",
       "    "
      ],
      "text/plain": [
       "<IPython.core.display.HTML object>"
      ]
     },
     "metadata": {},
     "output_type": "display_data"
    }
   ],
   "source": [
    "trainers = list()\n",
    "models = list()\n",
    "\n",
    "\n",
    "#!pip install evaluate\n",
    "\n",
    "import evaluate\n",
    "\n",
    "accuracy = evaluate.load(\"accuracy\")\n",
    "\n",
    "import numpy as np\n",
    "\n",
    "\n",
    "def compute_metrics(eval_pred):\n",
    "    predictions, labels_ = eval_pred\n",
    "    predictions = np.argmax(predictions, axis=1)\n",
    "    return accuracy.compute(predictions=predictions, references=labels_)\n",
    "\n",
    "from transformers import AutoModelForSequenceClassification, TrainingArguments, Trainer\n",
    "\n",
    "model = AutoModelForSequenceClassification.from_pretrained(\n",
    "    \"bert-base-uncased\", num_labels=4, id2label=id2label, label2id=label2id\n",
    ")\n",
    "\n",
    "training_args = TrainingArguments(\n",
    "    output_dir=\"my_awesome_model\",\n",
    "    learning_rate=2e-5,\n",
    "    per_device_train_batch_size=8,\n",
    "    per_device_eval_batch_size=8,\n",
    "    num_train_epochs=10,\n",
    "    weight_decay=0.05,\n",
    "    evaluation_strategy=\"epoch\",\n",
    "    save_strategy=\"epoch\",\n",
    "    load_best_model_at_end=True,\n",
    "    metric_for_best_model='eval_accuracy'\n",
    "    #push_to_hub=True,\n",
    ")\n",
    "\n",
    "trainer = Trainer(\n",
    "    model=model,\n",
    "    args=training_args,\n",
    "    train_dataset=tokenized_train,\n",
    "    eval_dataset=tokenized_val,\n",
    "    tokenizer=tokenizer,\n",
    "    data_collator=data_collator,\n",
    "    compute_metrics=compute_metrics,\n",
    ")\n",
    "\n",
    "trainer.train()\n",
    "\n",
    "trainer.model\n",
    "\n",
    "trainer.evaluate()\n"
   ]
  },
  {
   "cell_type": "code",
   "execution_count": 18,
   "id": "fd5b556e-3506-4c89-b788-17b66bf4ccc1",
   "metadata": {
    "execution": {
     "iopub.execute_input": "2023-10-27T19:11:18.865804Z",
     "iopub.status.busy": "2023-10-27T19:11:18.865571Z",
     "iopub.status.idle": "2023-10-27T19:11:19.343988Z",
     "shell.execute_reply": "2023-10-27T19:11:19.339854Z",
     "shell.execute_reply.started": "2023-10-27T19:11:18.865777Z"
    }
   },
   "outputs": [
    {
     "ename": "NameError",
     "evalue": "name 'error' is not defined",
     "output_type": "error",
     "traceback": [
      "\u001b[0;31m---------------------------------------------------------------------------\u001b[0m",
      "\u001b[0;31mNameError\u001b[0m                                 Traceback (most recent call last)",
      "Cell \u001b[0;32mIn[18], line 1\u001b[0m\n\u001b[0;32m----> 1\u001b[0m \u001b[43merror\u001b[49m\n",
      "\u001b[0;31mNameError\u001b[0m: name 'error' is not defined"
     ]
    }
   ],
   "source": [
    "error"
   ]
  },
  {
   "cell_type": "markdown",
   "id": "8ae8a2c5-bdf3-4f05-a0cc-b11f9323d645",
   "metadata": {},
   "source": [
    "# Saving model and getting test results"
   ]
  },
  {
   "cell_type": "code",
   "execution_count": 19,
   "id": "ef471c56-d0d7-428d-8579-f7a5da7b73c0",
   "metadata": {
    "execution": {
     "iopub.execute_input": "2023-10-27T19:12:17.739971Z",
     "iopub.status.busy": "2023-10-27T19:12:17.739284Z",
     "iopub.status.idle": "2023-10-27T19:12:18.645122Z",
     "shell.execute_reply": "2023-10-27T19:12:18.644310Z",
     "shell.execute_reply.started": "2023-10-27T19:12:17.739945Z"
    }
   },
   "outputs": [],
   "source": [
    "trainer.save_model(f\"./bert_005_{FOLD}\")"
   ]
  },
  {
   "cell_type": "code",
   "execution_count": 20,
   "id": "310ddd1a-6215-44c4-aef1-f8c991361216",
   "metadata": {
    "execution": {
     "iopub.execute_input": "2023-10-27T19:12:22.693157Z",
     "iopub.status.busy": "2023-10-27T19:12:22.692883Z",
     "iopub.status.idle": "2023-10-27T19:12:22.697549Z",
     "shell.execute_reply": "2023-10-27T19:12:22.696494Z",
     "shell.execute_reply.started": "2023-10-27T19:12:22.693137Z"
    }
   },
   "outputs": [],
   "source": [
    "#model = trainer.model"
   ]
  },
  {
   "cell_type": "code",
   "execution_count": 21,
   "id": "4f363a56-5cc4-4e89-8fec-1ab2e64f59aa",
   "metadata": {
    "execution": {
     "iopub.execute_input": "2023-10-27T19:12:23.413533Z",
     "iopub.status.busy": "2023-10-27T19:12:23.413276Z",
     "iopub.status.idle": "2023-10-27T19:12:23.417783Z",
     "shell.execute_reply": "2023-10-27T19:12:23.417171Z",
     "shell.execute_reply.started": "2023-10-27T19:12:23.413516Z"
    }
   },
   "outputs": [],
   "source": [
    "text = \"Bad. Super bad. Very bad hotel. worst hotel ever. I have everyone\""
   ]
  },
  {
   "cell_type": "code",
   "execution_count": 22,
   "id": "88efe1cd-0a17-4d4a-a2bb-feb3df3a8a58",
   "metadata": {
    "execution": {
     "iopub.execute_input": "2023-10-27T19:12:24.360308Z",
     "iopub.status.busy": "2023-10-27T19:12:24.360056Z",
     "iopub.status.idle": "2023-10-27T19:12:24.367262Z",
     "shell.execute_reply": "2023-10-27T19:12:24.366567Z",
     "shell.execute_reply.started": "2023-10-27T19:12:24.360293Z"
    }
   },
   "outputs": [],
   "source": [
    "test_set = list()\n",
    "\n",
    "with open(\"test_just_reviews.txt\", \"r\") as fp:\n",
    "    test_set = fp.readlines()"
   ]
  },
  {
   "cell_type": "code",
   "execution_count": 23,
   "id": "147a7c93-0da4-4981-a786-ccde1703362f",
   "metadata": {
    "execution": {
     "iopub.execute_input": "2023-10-27T19:12:37.962507Z",
     "iopub.status.busy": "2023-10-27T19:12:37.962234Z",
     "iopub.status.idle": "2023-10-27T19:12:37.968297Z",
     "shell.execute_reply": "2023-10-27T19:12:37.967655Z",
     "shell.execute_reply.started": "2023-10-27T19:12:37.962489Z"
    },
    "scrolled": true
   },
   "outputs": [],
   "source": [
    "test_set = [' '.join(x.split(' ')[:512]) for x in test_set]"
   ]
  },
  {
   "cell_type": "code",
   "execution_count": 24,
   "id": "4414da6d-42a3-4aec-bb35-98dc2b86d6d5",
   "metadata": {
    "execution": {
     "iopub.execute_input": "2023-10-27T19:12:38.262993Z",
     "iopub.status.busy": "2023-10-27T19:12:38.262330Z",
     "iopub.status.idle": "2023-10-27T19:12:38.310543Z",
     "shell.execute_reply": "2023-10-27T19:12:38.309840Z",
     "shell.execute_reply.started": "2023-10-27T19:12:38.262970Z"
    }
   },
   "outputs": [
    {
     "data": {
      "text/plain": [
       "{'input_ids': tensor([[ 101, 2919, 1012, 3565, 2919, 1012, 2200, 2919, 3309, 1012, 5409, 3309,\n",
       "         2412, 1012, 1045, 2031, 3071,  102]], device='cuda:0'), 'token_type_ids': tensor([[0, 0, 0, 0, 0, 0, 0, 0, 0, 0, 0, 0, 0, 0, 0, 0, 0, 0]],\n",
       "       device='cuda:0'), 'attention_mask': tensor([[1, 1, 1, 1, 1, 1, 1, 1, 1, 1, 1, 1, 1, 1, 1, 1, 1, 1]],\n",
       "       device='cuda:0')}"
      ]
     },
     "execution_count": 24,
     "metadata": {},
     "output_type": "execute_result"
    }
   ],
   "source": [
    "tokenizer = AutoTokenizer.from_pretrained(f\"./bert_005_{FOLD}\")\n",
    "\n",
    "tokenizer(text, return_tensors=\"pt\").to(device=\"cuda:0\")"
   ]
  },
  {
   "cell_type": "code",
   "execution_count": null,
   "id": "0ce4b186-c270-4fac-aa7f-583fa097cf4f",
   "metadata": {},
   "outputs": [],
   "source": []
  },
  {
   "cell_type": "code",
   "execution_count": 25,
   "id": "42a30b67-de84-485f-9d3c-3e2ebe0ef47d",
   "metadata": {
    "execution": {
     "iopub.execute_input": "2023-10-27T19:12:51.578463Z",
     "iopub.status.busy": "2023-10-27T19:12:51.577212Z",
     "iopub.status.idle": "2023-10-27T19:12:51.869602Z",
     "shell.execute_reply": "2023-10-27T19:12:51.868894Z",
     "shell.execute_reply.started": "2023-10-27T19:12:51.578435Z"
    }
   },
   "outputs": [],
   "source": [
    "tokenizer = AutoTokenizer.from_pretrained(f\"./bert_005_{FOLD}\")\n",
    "tokenized_test = list()\n",
    "\n",
    "for rev in test_set:\n",
    "    inputs = tokenizer(rev, return_tensors=\"pt\", truncation=True, max_length=256).to(device=\"cuda:0\")\n",
    "    tokenized_test.append(inputs)\n",
    "#inputs.get_device()"
   ]
  },
  {
   "cell_type": "code",
   "execution_count": 26,
   "id": "9206faf8-629e-41e8-b37f-0e9f6e554175",
   "metadata": {
    "execution": {
     "iopub.execute_input": "2023-10-27T19:12:52.263442Z",
     "iopub.status.busy": "2023-10-27T19:12:52.263188Z",
     "iopub.status.idle": "2023-10-27T19:12:52.267365Z",
     "shell.execute_reply": "2023-10-27T19:12:52.266601Z",
     "shell.execute_reply.started": "2023-10-27T19:12:52.263427Z"
    }
   },
   "outputs": [],
   "source": [
    "results = list()"
   ]
  },
  {
   "cell_type": "code",
   "execution_count": 27,
   "id": "50995cef-a7c1-480c-afa6-38bbe3efc76e",
   "metadata": {
    "execution": {
     "iopub.execute_input": "2023-10-27T19:12:52.800653Z",
     "iopub.status.busy": "2023-10-27T19:12:52.800383Z",
     "iopub.status.idle": "2023-10-27T19:12:52.804271Z",
     "shell.execute_reply": "2023-10-27T19:12:52.803564Z",
     "shell.execute_reply.started": "2023-10-27T19:12:52.800637Z"
    }
   },
   "outputs": [],
   "source": [
    "#tokenized_test"
   ]
  },
  {
   "cell_type": "code",
   "execution_count": 28,
   "id": "652ee9a6-dccf-481f-87e2-e6377aa8dff7",
   "metadata": {
    "execution": {
     "iopub.execute_input": "2023-10-27T19:12:54.051727Z",
     "iopub.status.busy": "2023-10-27T19:12:54.051473Z",
     "iopub.status.idle": "2023-10-27T19:13:00.427529Z",
     "shell.execute_reply": "2023-10-27T19:13:00.426625Z",
     "shell.execute_reply.started": "2023-10-27T19:12:54.051711Z"
    }
   },
   "outputs": [],
   "source": [
    "with torch.no_grad():\n",
    "    for rev in tokenized_test:\n",
    "        logits = model(**rev).logits\n",
    "        predicted_class_id = logits.argmax().item()\n",
    "        results.append(model.config.id2label[predicted_class_id])"
   ]
  },
  {
   "cell_type": "code",
   "execution_count": 29,
   "id": "6687a19e-f35f-489f-8016-3ed56f0a9403",
   "metadata": {
    "execution": {
     "iopub.execute_input": "2023-10-27T19:13:00.429494Z",
     "iopub.status.busy": "2023-10-27T19:13:00.428733Z",
     "iopub.status.idle": "2023-10-27T19:13:00.434464Z",
     "shell.execute_reply": "2023-10-27T19:13:00.433903Z",
     "shell.execute_reply.started": "2023-10-27T19:13:00.429478Z"
    },
    "scrolled": true
   },
   "outputs": [
    {
     "data": {
      "text/plain": [
       "['deceptivepositive',\n",
       " 'deceptivenegative',\n",
       " 'deceptivepositive',\n",
       " 'truthfulnegative',\n",
       " 'deceptivepositive',\n",
       " 'truthfulnegative',\n",
       " 'deceptivepositive',\n",
       " 'deceptivepositive',\n",
       " 'truthfulnegative',\n",
       " 'deceptivenegative',\n",
       " 'deceptivepositive',\n",
       " 'deceptivepositive',\n",
       " 'truthfulnegative',\n",
       " 'truthfulnegative',\n",
       " 'truthfulpositive',\n",
       " 'deceptivepositive',\n",
       " 'truthfulpositive',\n",
       " 'truthfulpositive',\n",
       " 'deceptivenegative',\n",
       " 'truthfulpositive',\n",
       " 'deceptivepositive',\n",
       " 'deceptivepositive',\n",
       " 'deceptivepositive',\n",
       " 'deceptivenegative',\n",
       " 'deceptivepositive',\n",
       " 'deceptivenegative',\n",
       " 'truthfulpositive',\n",
       " 'truthfulpositive',\n",
       " 'deceptivenegative',\n",
       " 'deceptivenegative',\n",
       " 'truthfulpositive',\n",
       " 'deceptivepositive',\n",
       " 'deceptivepositive',\n",
       " 'deceptivenegative',\n",
       " 'truthfulnegative',\n",
       " 'deceptivenegative',\n",
       " 'truthfulpositive',\n",
       " 'deceptivepositive',\n",
       " 'truthfulnegative',\n",
       " 'deceptivenegative',\n",
       " 'truthfulpositive',\n",
       " 'truthfulnegative',\n",
       " 'deceptivenegative',\n",
       " 'truthfulpositive',\n",
       " 'deceptivenegative',\n",
       " 'truthfulnegative',\n",
       " 'deceptivenegative',\n",
       " 'deceptivenegative',\n",
       " 'deceptivenegative',\n",
       " 'deceptivepositive',\n",
       " 'truthfulnegative',\n",
       " 'deceptivenegative',\n",
       " 'deceptivenegative',\n",
       " 'truthfulpositive',\n",
       " 'truthfulpositive',\n",
       " 'deceptivepositive',\n",
       " 'deceptivenegative',\n",
       " 'deceptivenegative',\n",
       " 'truthfulnegative',\n",
       " 'deceptivepositive',\n",
       " 'truthfulpositive',\n",
       " 'deceptivenegative',\n",
       " 'deceptivepositive',\n",
       " 'deceptivepositive',\n",
       " 'truthfulnegative',\n",
       " 'truthfulnegative',\n",
       " 'deceptivenegative',\n",
       " 'truthfulnegative',\n",
       " 'truthfulnegative',\n",
       " 'truthfulpositive',\n",
       " 'deceptivepositive',\n",
       " 'truthfulnegative',\n",
       " 'truthfulpositive',\n",
       " 'deceptivepositive',\n",
       " 'truthfulnegative',\n",
       " 'deceptivepositive',\n",
       " 'truthfulnegative',\n",
       " 'truthfulpositive',\n",
       " 'deceptivepositive',\n",
       " 'truthfulnegative',\n",
       " 'deceptivepositive',\n",
       " 'deceptivenegative',\n",
       " 'truthfulnegative',\n",
       " 'deceptivenegative',\n",
       " 'truthfulnegative',\n",
       " 'deceptivenegative',\n",
       " 'truthfulnegative',\n",
       " 'deceptivepositive',\n",
       " 'truthfulnegative',\n",
       " 'truthfulpositive',\n",
       " 'deceptivepositive',\n",
       " 'truthfulpositive',\n",
       " 'deceptivenegative',\n",
       " 'deceptivepositive',\n",
       " 'deceptivenegative',\n",
       " 'truthfulnegative',\n",
       " 'truthfulnegative',\n",
       " 'truthfulpositive',\n",
       " 'truthfulpositive',\n",
       " 'truthfulpositive',\n",
       " 'deceptivepositive',\n",
       " 'deceptivenegative',\n",
       " 'deceptivepositive',\n",
       " 'deceptivepositive',\n",
       " 'deceptivepositive',\n",
       " 'deceptivenegative',\n",
       " 'deceptivepositive',\n",
       " 'deceptivepositive',\n",
       " 'truthfulpositive',\n",
       " 'truthfulnegative',\n",
       " 'deceptivenegative',\n",
       " 'deceptivepositive',\n",
       " 'truthfulpositive',\n",
       " 'deceptivenegative',\n",
       " 'truthfulnegative',\n",
       " 'deceptivepositive',\n",
       " 'truthfulnegative',\n",
       " 'truthfulpositive',\n",
       " 'truthfulnegative',\n",
       " 'deceptivenegative',\n",
       " 'truthfulnegative',\n",
       " 'deceptivenegative',\n",
       " 'truthfulpositive',\n",
       " 'deceptivenegative',\n",
       " 'truthfulnegative',\n",
       " 'deceptivepositive',\n",
       " 'deceptivepositive',\n",
       " 'truthfulpositive',\n",
       " 'deceptivenegative',\n",
       " 'deceptivenegative',\n",
       " 'truthfulpositive',\n",
       " 'deceptivepositive',\n",
       " 'truthfulpositive',\n",
       " 'deceptivenegative',\n",
       " 'truthfulnegative',\n",
       " 'truthfulnegative',\n",
       " 'truthfulnegative',\n",
       " 'deceptivepositive',\n",
       " 'truthfulnegative',\n",
       " 'truthfulpositive',\n",
       " 'deceptivepositive',\n",
       " 'truthfulpositive',\n",
       " 'truthfulnegative',\n",
       " 'truthfulnegative',\n",
       " 'truthfulnegative',\n",
       " 'truthfulnegative',\n",
       " 'truthfulpositive',\n",
       " 'truthfulpositive',\n",
       " 'truthfulpositive',\n",
       " 'deceptivepositive',\n",
       " 'deceptivenegative',\n",
       " 'deceptivepositive',\n",
       " 'truthfulnegative',\n",
       " 'deceptivepositive',\n",
       " 'deceptivepositive',\n",
       " 'deceptivepositive',\n",
       " 'truthfulnegative',\n",
       " 'truthfulpositive',\n",
       " 'deceptivenegative',\n",
       " 'deceptivenegative',\n",
       " 'deceptivepositive',\n",
       " 'deceptivenegative',\n",
       " 'truthfulpositive',\n",
       " 'truthfulpositive',\n",
       " 'deceptivepositive',\n",
       " 'truthfulpositive',\n",
       " 'truthfulpositive',\n",
       " 'truthfulpositive',\n",
       " 'deceptivenegative',\n",
       " 'truthfulnegative',\n",
       " 'truthfulpositive',\n",
       " 'deceptivepositive',\n",
       " 'truthfulpositive',\n",
       " 'truthfulpositive',\n",
       " 'truthfulnegative',\n",
       " 'deceptivepositive',\n",
       " 'deceptivepositive',\n",
       " 'truthfulpositive',\n",
       " 'deceptivepositive',\n",
       " 'truthfulpositive',\n",
       " 'truthfulpositive',\n",
       " 'deceptivenegative',\n",
       " 'deceptivenegative',\n",
       " 'deceptivepositive',\n",
       " 'deceptivepositive',\n",
       " 'deceptivenegative',\n",
       " 'truthfulpositive',\n",
       " 'truthfulnegative',\n",
       " 'deceptivepositive',\n",
       " 'truthfulnegative',\n",
       " 'deceptivepositive',\n",
       " 'truthfulnegative',\n",
       " 'deceptivenegative',\n",
       " 'deceptivenegative',\n",
       " 'truthfulpositive',\n",
       " 'deceptivenegative',\n",
       " 'truthfulnegative',\n",
       " 'truthfulpositive',\n",
       " 'truthfulpositive',\n",
       " 'truthfulnegative']"
      ]
     },
     "execution_count": 29,
     "metadata": {},
     "output_type": "execute_result"
    }
   ],
   "source": [
    "results"
   ]
  },
  {
   "cell_type": "code",
   "execution_count": 30,
   "id": "25fffe4e-66ce-46b7-b315-62da7531f8fb",
   "metadata": {
    "execution": {
     "iopub.execute_input": "2023-10-27T19:13:07.487822Z",
     "iopub.status.busy": "2023-10-27T19:13:07.487014Z",
     "iopub.status.idle": "2023-10-27T19:13:07.528745Z",
     "shell.execute_reply": "2023-10-27T19:13:07.527922Z",
     "shell.execute_reply.started": "2023-10-27T19:13:07.487796Z"
    }
   },
   "outputs": [],
   "source": [
    "with open(f\"Results_005_{FOLD}.txt\", \"w\") as txt_file:\n",
    "    for line in results:\n",
    "        txt_file.write(\"\".join(line).upper() + \"\\n\") # works with any number of elements in a line"
   ]
  },
  {
   "cell_type": "code",
   "execution_count": null,
   "id": "618f8b9a-bbeb-4b29-9dd0-a71bb79afb4d",
   "metadata": {},
   "outputs": [],
   "source": []
  }
 ],
 "metadata": {
  "kernelspec": {
   "display_name": "LN-kernel",
   "language": "python",
   "name": "ln-kernel"
  },
  "language_info": {
   "codemirror_mode": {
    "name": "ipython",
    "version": 3
   },
   "file_extension": ".py",
   "mimetype": "text/x-python",
   "name": "python",
   "nbconvert_exporter": "python",
   "pygments_lexer": "ipython3",
   "version": "3.8.16"
  }
 },
 "nbformat": 4,
 "nbformat_minor": 5
}
