{
 "cells": [
  {
   "cell_type": "code",
   "execution_count": 78,
   "id": "c077f74e-41e3-423a-a061-f696da44bbca",
   "metadata": {
    "execution": {
     "iopub.execute_input": "2023-10-27T17:45:30.060946Z",
     "iopub.status.busy": "2023-10-27T17:45:30.060061Z",
     "iopub.status.idle": "2023-10-27T17:45:30.075534Z",
     "shell.execute_reply": "2023-10-27T17:45:30.074742Z",
     "shell.execute_reply.started": "2023-10-27T17:45:30.060925Z"
    }
   },
   "outputs": [],
   "source": [
    "import torch\n",
    "import matplotlib.pyplot as plt\n",
    "import pandas as pd\n",
    "import numpy as np\n",
    "import math \n",
    "import string\n",
    "import re\n",
    "from sklearn.pipeline import Pipeline\n",
    "from nltk.tokenize import wordpunct_tokenize\n",
    "import nltk\n",
    "from transformers import AutoTokenizer\n",
    "from datasets import Dataset"
   ]
  },
  {
   "cell_type": "code",
   "execution_count": 2,
   "id": "b44393f0-c776-4279-9a8f-32135c3f92a4",
   "metadata": {
    "execution": {
     "iopub.execute_input": "2023-10-27T16:55:50.214064Z",
     "iopub.status.busy": "2023-10-27T16:55:50.213200Z",
     "iopub.status.idle": "2023-10-27T16:55:50.222606Z",
     "shell.execute_reply": "2023-10-27T16:55:50.221565Z",
     "shell.execute_reply.started": "2023-10-27T16:55:50.214038Z"
    }
   },
   "outputs": [],
   "source": [
    "lines = list()\n",
    "\n",
    "with open(\"train.txt\", \"r\") as fp:\n",
    "    lines = fp.readlines()"
   ]
  },
  {
   "cell_type": "code",
   "execution_count": 3,
   "id": "a9333c1e-9c23-4852-8716-8ec419f2f6d1",
   "metadata": {
    "execution": {
     "iopub.execute_input": "2023-10-27T16:55:50.224350Z",
     "iopub.status.busy": "2023-10-27T16:55:50.223812Z",
     "iopub.status.idle": "2023-10-27T16:55:50.255382Z",
     "shell.execute_reply": "2023-10-27T16:55:50.254216Z",
     "shell.execute_reply.started": "2023-10-27T16:55:50.224311Z"
    }
   },
   "outputs": [
    {
     "data": {
      "text/plain": [
       "'!\"#$%&\\'()*+,-./:;<=>?@[\\\\]^_`{|}~'"
      ]
     },
     "execution_count": 3,
     "metadata": {},
     "output_type": "execute_result"
    }
   ],
   "source": [
    "string.punctuation"
   ]
  },
  {
   "cell_type": "code",
   "execution_count": 4,
   "id": "df78f428-7818-437f-bad7-88ddbe08fb9a",
   "metadata": {
    "execution": {
     "iopub.execute_input": "2023-10-27T16:55:50.258995Z",
     "iopub.status.busy": "2023-10-27T16:55:50.258476Z",
     "iopub.status.idle": "2023-10-27T16:55:50.341013Z",
     "shell.execute_reply": "2023-10-27T16:55:50.339902Z",
     "shell.execute_reply.started": "2023-10-27T16:55:50.258965Z"
    }
   },
   "outputs": [],
   "source": [
    "y_train = [x.lower().split('\\t')[0] for x in lines]\n",
    "x_train = [''.join(x.lower().split('\\t')[1:]) for x in lines]\n",
    "x_train = [wordpunct_tokenize(x) for x in x_train]"
   ]
  },
  {
   "cell_type": "code",
   "execution_count": 5,
   "id": "f025d433-f249-4983-b01a-4179a1224480",
   "metadata": {
    "execution": {
     "iopub.execute_input": "2023-10-27T16:55:50.343283Z",
     "iopub.status.busy": "2023-10-27T16:55:50.342720Z",
     "iopub.status.idle": "2023-10-27T16:55:50.349041Z",
     "shell.execute_reply": "2023-10-27T16:55:50.347616Z",
     "shell.execute_reply.started": "2023-10-27T16:55:50.343249Z"
    }
   },
   "outputs": [],
   "source": [
    "labels = set(y_train)"
   ]
  },
  {
   "cell_type": "code",
   "execution_count": null,
   "id": "5d88c51b-d57c-4cfd-8d26-58b3e3cd5cb6",
   "metadata": {},
   "outputs": [],
   "source": []
  },
  {
   "cell_type": "code",
   "execution_count": 6,
   "id": "2a3e1be4-16ef-43c7-8a60-3d106cd067bb",
   "metadata": {
    "execution": {
     "iopub.execute_input": "2023-10-27T16:55:50.350658Z",
     "iopub.status.busy": "2023-10-27T16:55:50.350283Z",
     "iopub.status.idle": "2023-10-27T16:55:50.368031Z",
     "shell.execute_reply": "2023-10-27T16:55:50.366860Z",
     "shell.execute_reply.started": "2023-10-27T16:55:50.350631Z"
    }
   },
   "outputs": [],
   "source": [
    "model_checkpoint = \"bert-base-uncased\"\n",
    "batch_size = 8"
   ]
  },
  {
   "cell_type": "code",
   "execution_count": 7,
   "id": "8b12c610-2c05-481f-bc6c-4c8860749476",
   "metadata": {
    "execution": {
     "iopub.execute_input": "2023-10-27T16:55:50.369964Z",
     "iopub.status.busy": "2023-10-27T16:55:50.369562Z",
     "iopub.status.idle": "2023-10-27T16:55:52.159612Z",
     "shell.execute_reply": "2023-10-27T16:55:52.158537Z",
     "shell.execute_reply.started": "2023-10-27T16:55:50.369933Z"
    }
   },
   "outputs": [
    {
     "name": "stderr",
     "output_type": "stream",
     "text": [
      "Some weights of BertForMultipleChoice were not initialized from the model checkpoint at bert-base-uncased and are newly initialized: ['classifier.weight', 'classifier.bias']\n",
      "You should probably TRAIN this model on a down-stream task to be able to use it for predictions and inference.\n"
     ]
    }
   ],
   "source": [
    "from transformers import AutoModelForMultipleChoice, TrainingArguments, Trainer\n",
    "\n",
    "model = AutoModelForMultipleChoice.from_pretrained(model_checkpoint)"
   ]
  },
  {
   "cell_type": "code",
   "execution_count": 8,
   "id": "92f9d833-79cd-4580-a8a7-1b571327ce30",
   "metadata": {
    "execution": {
     "iopub.execute_input": "2023-10-27T16:55:52.160947Z",
     "iopub.status.busy": "2023-10-27T16:55:52.160587Z",
     "iopub.status.idle": "2023-10-27T16:55:52.167980Z",
     "shell.execute_reply": "2023-10-27T16:55:52.166721Z",
     "shell.execute_reply.started": "2023-10-27T16:55:52.160930Z"
    }
   },
   "outputs": [
    {
     "data": {
      "text/plain": [
       "{'deceptivenegative',\n",
       " 'deceptivepositive',\n",
       " 'truthfulnegative',\n",
       " 'truthfulpositive'}"
      ]
     },
     "execution_count": 8,
     "metadata": {},
     "output_type": "execute_result"
    }
   ],
   "source": [
    "id2label = {idx:label for idx, label in enumerate(labels)}\n",
    "label2id = {label:idx for idx, label in enumerate(labels)}\n",
    "labels"
   ]
  },
  {
   "cell_type": "code",
   "execution_count": 9,
   "id": "5cef2f80-03d6-40c4-9e99-26f28e7e2f0c",
   "metadata": {
    "execution": {
     "iopub.execute_input": "2023-10-27T16:55:52.169328Z",
     "iopub.status.busy": "2023-10-27T16:55:52.168948Z",
     "iopub.status.idle": "2023-10-27T16:55:52.188384Z",
     "shell.execute_reply": "2023-10-27T16:55:52.186940Z",
     "shell.execute_reply.started": "2023-10-27T16:55:52.169290Z"
    }
   },
   "outputs": [
    {
     "data": {
      "text/plain": [
       "{0: 'deceptivenegative',\n",
       " 1: 'truthfulnegative',\n",
       " 2: 'truthfulpositive',\n",
       " 3: 'deceptivepositive'}"
      ]
     },
     "execution_count": 9,
     "metadata": {},
     "output_type": "execute_result"
    }
   ],
   "source": [
    "id2label"
   ]
  },
  {
   "cell_type": "code",
   "execution_count": null,
   "id": "cff7e605-bd65-40a8-ba4a-eaa4069a0587",
   "metadata": {},
   "outputs": [],
   "source": []
  },
  {
   "cell_type": "code",
   "execution_count": 10,
   "id": "23b96584-cec1-40b5-ba8d-b2dc661c6e2b",
   "metadata": {
    "execution": {
     "iopub.execute_input": "2023-10-27T16:55:52.190170Z",
     "iopub.status.busy": "2023-10-27T16:55:52.189855Z",
     "iopub.status.idle": "2023-10-27T16:55:52.210728Z",
     "shell.execute_reply": "2023-10-27T16:55:52.209074Z",
     "shell.execute_reply.started": "2023-10-27T16:55:52.190150Z"
    }
   },
   "outputs": [],
   "source": [
    "df_all = pd.DataFrame([' '.join(x) for x in x_train], columns=['text'])"
   ]
  },
  {
   "cell_type": "code",
   "execution_count": 11,
   "id": "48dc0a4b-1f7b-4296-956f-38b59bbf29c8",
   "metadata": {
    "execution": {
     "iopub.execute_input": "2023-10-27T16:55:52.212018Z",
     "iopub.status.busy": "2023-10-27T16:55:52.211803Z",
     "iopub.status.idle": "2023-10-27T16:55:52.228720Z",
     "shell.execute_reply": "2023-10-27T16:55:52.227562Z",
     "shell.execute_reply.started": "2023-10-27T16:55:52.212002Z"
    }
   },
   "outputs": [],
   "source": [
    "yt = pd.DataFrame(y_train)\n",
    "yt_np = np.array(y_train)"
   ]
  },
  {
   "cell_type": "code",
   "execution_count": 41,
   "id": "68fad277-ffa9-4a6e-b10e-952bf38262af",
   "metadata": {
    "execution": {
     "iopub.execute_input": "2023-10-27T17:22:42.331253Z",
     "iopub.status.busy": "2023-10-27T17:22:42.330946Z",
     "iopub.status.idle": "2023-10-27T17:22:42.362407Z",
     "shell.execute_reply": "2023-10-27T17:22:42.360881Z",
     "shell.execute_reply.started": "2023-10-27T17:22:42.331235Z"
    }
   },
   "outputs": [
    {
     "data": {
      "text/html": [
       "<div>\n",
       "<style scoped>\n",
       "    .dataframe tbody tr th:only-of-type {\n",
       "        vertical-align: middle;\n",
       "    }\n",
       "\n",
       "    .dataframe tbody tr th {\n",
       "        vertical-align: top;\n",
       "    }\n",
       "\n",
       "    .dataframe thead th {\n",
       "        text-align: right;\n",
       "    }\n",
       "</style>\n",
       "<table border=\"1\" class=\"dataframe\">\n",
       "  <thead>\n",
       "    <tr style=\"text-align: right;\">\n",
       "      <th></th>\n",
       "      <th>text</th>\n",
       "    </tr>\n",
       "  </thead>\n",
       "  <tbody>\n",
       "    <tr>\n",
       "      <th>1280</th>\n",
       "      <td>great hotel !! the staff is very friendly and ...</td>\n",
       "    </tr>\n",
       "    <tr>\n",
       "      <th>1069</th>\n",
       "      <td>the omni chicago hotel is not pretty as they a...</td>\n",
       "    </tr>\n",
       "    <tr>\n",
       "      <th>198</th>\n",
       "      <td>after reading so many great reviews i booked t...</td>\n",
       "    </tr>\n",
       "    <tr>\n",
       "      <th>239</th>\n",
       "      <td>the hilton chicago was amazing !! it is close ...</td>\n",
       "    </tr>\n",
       "    <tr>\n",
       "      <th>1294</th>\n",
       "      <td>my first trip back to chicago in about 7 years...</td>\n",
       "    </tr>\n",
       "  </tbody>\n",
       "</table>\n",
       "</div>"
      ],
      "text/plain": [
       "                                                   text\n",
       "1280  great hotel !! the staff is very friendly and ...\n",
       "1069  the omni chicago hotel is not pretty as they a...\n",
       "198   after reading so many great reviews i booked t...\n",
       "239   the hilton chicago was amazing !! it is close ...\n",
       "1294  my first trip back to chicago in about 7 years..."
      ]
     },
     "execution_count": 41,
     "metadata": {},
     "output_type": "execute_result"
    }
   ],
   "source": [
    "idx = np.random.permutation(df_all.index)\n",
    "df_all = df_all.reindex(idx)\n",
    "y_train = yt.reindex(idx)\n",
    "\n",
    "df_train = df_all.iloc[:1000]\n",
    "df_val = df_all.iloc[1000:]\n",
    "\n",
    "y_val = y_train.iloc[1000:]\n",
    "y_train = y_train.iloc[:1000]\n",
    "\n",
    "\n",
    "df_train.head()"
   ]
  },
  {
   "cell_type": "code",
   "execution_count": 42,
   "id": "e0db8e23-3565-4d21-ae2d-fc01c6d882bd",
   "metadata": {
    "execution": {
     "iopub.execute_input": "2023-10-27T17:24:05.095346Z",
     "iopub.status.busy": "2023-10-27T17:24:05.095030Z",
     "iopub.status.idle": "2023-10-27T17:24:05.101124Z",
     "shell.execute_reply": "2023-10-27T17:24:05.100302Z",
     "shell.execute_reply.started": "2023-10-27T17:24:05.095307Z"
    }
   },
   "outputs": [],
   "source": [
    "def divide_chunks(l, n): \n",
    "      \n",
    "    # looping till length l \n",
    "    for i in range(0, len(l), n):  \n",
    "        yield l[i:i + n] \n",
    "  "
   ]
  },
  {
   "cell_type": "code",
   "execution_count": 61,
   "id": "74ed2d3e-d45e-4e7d-81d3-223f3ab75352",
   "metadata": {
    "execution": {
     "iopub.execute_input": "2023-10-27T17:32:00.855162Z",
     "iopub.status.busy": "2023-10-27T17:32:00.854894Z",
     "iopub.status.idle": "2023-10-27T17:32:00.859745Z",
     "shell.execute_reply": "2023-10-27T17:32:00.858902Z",
     "shell.execute_reply.started": "2023-10-27T17:32:00.855146Z"
    }
   },
   "outputs": [
    {
     "ename": "SyntaxError",
     "evalue": "invalid syntax (859811017.py, line 1)",
     "output_type": "error",
     "traceback": [
      "\u001b[0;36m  Cell \u001b[0;32mIn[61], line 1\u001b[0;36m\u001b[0m\n\u001b[0;31m    df_all.iloc[[1,2,3:7]]\u001b[0m\n\u001b[0m                      ^\u001b[0m\n\u001b[0;31mSyntaxError\u001b[0m\u001b[0;31m:\u001b[0m invalid syntax\n"
     ]
    }
   ],
   "source": [
    "#df_all.iloc[[1,2,3:7]]"
   ]
  },
  {
   "cell_type": "code",
   "execution_count": 70,
   "id": "60a97c03-3994-470d-922e-b534b0de513a",
   "metadata": {
    "execution": {
     "iopub.execute_input": "2023-10-27T17:44:33.670141Z",
     "iopub.status.busy": "2023-10-27T17:44:33.669842Z",
     "iopub.status.idle": "2023-10-27T17:44:33.679930Z",
     "shell.execute_reply": "2023-10-27T17:44:33.679309Z",
     "shell.execute_reply.started": "2023-10-27T17:44:33.670125Z"
    }
   },
   "outputs": [],
   "source": [
    "idx = np.random.permutation(df_all.index)\n",
    "df_all = df_all.reindex(idx)\n",
    "y_train = yt.reindex(idx)\n",
    "\n",
    "x_trains = list()\n",
    "y_trains = list()\n",
    "\n",
    "N = 5\n",
    "\n",
    "for var in range(N):\n",
    "    len_fold = 1400/N\n",
    "    x_trains.append((df_all.iloc[var*int(len_fold):(var+1)*int(len_fold)], df_all.iloc[np.r_[0:int(var*len_fold) , int((var+1)*len_fold):1400]] ))\n",
    "    y_trains.append((y_train.iloc[var*int(len_fold):(var+1)*int(len_fold)], y_train.iloc[np.r_[0:int(var*len_fold), int((var+1)*len_fold):1400]] ))\n",
    "\n",
    "#x_trains = list(divide_chunks(df_all, 280))\n",
    "#y_trains = list(divide_chunks(y_train, 280))"
   ]
  },
  {
   "cell_type": "code",
   "execution_count": 77,
   "id": "2c2dc574-f051-4763-a66a-d5846e3f73b8",
   "metadata": {
    "execution": {
     "iopub.execute_input": "2023-10-27T17:45:06.174898Z",
     "iopub.status.busy": "2023-10-27T17:45:06.174156Z",
     "iopub.status.idle": "2023-10-27T17:45:06.181671Z",
     "shell.execute_reply": "2023-10-27T17:45:06.180900Z",
     "shell.execute_reply.started": "2023-10-27T17:45:06.174872Z"
    },
    "scrolled": true
   },
   "outputs": [
    {
     "data": {
      "text/plain": [
       "(                      0\n",
       " 166   deceptivenegative\n",
       " 641    truthfulpositive\n",
       " 1286   truthfulnegative\n",
       " 337   deceptivepositive\n",
       " 800   deceptivepositive\n",
       " ...                 ...\n",
       " 925    truthfulnegative\n",
       " 1034  deceptivenegative\n",
       " 1135  deceptivepositive\n",
       " 1318  deceptivenegative\n",
       " 1240  deceptivenegative\n",
       " \n",
       " [280 rows x 1 columns],\n",
       "                       0\n",
       " 967   deceptivenegative\n",
       " 1327  deceptivenegative\n",
       " 932   deceptivepositive\n",
       " 1343  deceptivepositive\n",
       " 1374   truthfulnegative\n",
       " ...                 ...\n",
       " 1360  deceptivenegative\n",
       " 540    truthfulpositive\n",
       " 1128  deceptivenegative\n",
       " 178   deceptivepositive\n",
       " 354   deceptivenegative\n",
       " \n",
       " [1120 rows x 1 columns])"
      ]
     },
     "execution_count": 77,
     "metadata": {},
     "output_type": "execute_result"
    }
   ],
   "source": [
    "y_trains[3]"
   ]
  },
  {
   "cell_type": "markdown",
   "id": "043ab2dc-4e5a-4048-87d8-932c574af3b3",
   "metadata": {
    "execution": {
     "iopub.execute_input": "2023-10-27T16:55:52.264537Z",
     "iopub.status.busy": "2023-10-27T16:55:52.263938Z",
     "iopub.status.idle": "2023-10-27T16:55:52.465289Z",
     "shell.execute_reply": "2023-10-27T16:55:52.464369Z",
     "shell.execute_reply.started": "2023-10-27T16:55:52.264503Z"
    },
    "scrolled": true
   },
   "source": [
    "df_aux = df_train.copy()\n",
    "curr_size = 1400\n",
    "for el in df_aux.iterrows():\n",
    "    print(el[0])\n",
    "    length = 128\n",
    "    while length + 256 < len(el[1]['text'].split(' ')):\n",
    "        tex = el[1]['text'].split(' ')[length:length+256]\n",
    "        #print(el[1]['text'])\n",
    "        #print('len', len(el[1]['text'].split(' ')))\n",
    "        #print(df_train.loc[el[0], 'text'])\n",
    "        df_train.loc[el[0], 'text'] = ' '.join(el[1]['text'].split(' ')[:256])\n",
    "        #print(df_train.loc[el[0], 'text'])\n",
    "        new_df = pd.DataFrame(pd.Series({'text': ' '.join(tex)}, name = curr_size))\n",
    "        #print(new_df.transpose())\n",
    "        df_train = pd.concat([df_train, new_df.transpose()], ignore_index=False)\n",
    "        new_df = pd.DataFrame(pd.Series(y_train.loc[el[0]], name = curr_size))\n",
    "        print(new_df)#.transpose())\n",
    "        y_train = pd.concat([y_train, new_df.transpose()], ignore_index=False)\n",
    "        curr_size += 1\n",
    "        length += 128\n",
    "    "
   ]
  },
  {
   "cell_type": "code",
   "execution_count": 14,
   "id": "6bc95f39-2dd5-4124-9808-33e94cd9bf58",
   "metadata": {
    "execution": {
     "iopub.execute_input": "2023-10-27T16:55:52.466870Z",
     "iopub.status.busy": "2023-10-27T16:55:52.466619Z",
     "iopub.status.idle": "2023-10-27T16:55:52.471211Z",
     "shell.execute_reply": "2023-10-27T16:55:52.470135Z",
     "shell.execute_reply.started": "2023-10-27T16:55:52.466850Z"
    }
   },
   "outputs": [],
   "source": []
  },
  {
   "cell_type": "code",
   "execution_count": 15,
   "id": "51248cb2-92ca-4b7d-8598-27d418b92958",
   "metadata": {
    "execution": {
     "iopub.execute_input": "2023-10-27T16:55:52.472209Z",
     "iopub.status.busy": "2023-10-27T16:55:52.471995Z",
     "iopub.status.idle": "2023-10-27T16:55:52.504098Z",
     "shell.execute_reply": "2023-10-27T16:55:52.503212Z",
     "shell.execute_reply.started": "2023-10-27T16:55:52.472183Z"
    }
   },
   "outputs": [],
   "source": [
    "_dct_train = df_train.to_dict()\n",
    "_dct_train['text'] = list(_dct_train['text'].values())\n",
    "_dct_train['label'] = y_train.apply(lambda x: label2id[x[0]], axis=1)\n",
    "\n",
    "_dataset_train =  Dataset.from_dict(_dct_train)\n",
    "\n",
    "_dct_val = df_val.to_dict()\n",
    "_dct_val['text'] = list(_dct_val['text'].values())\n",
    "_dct_val['label'] = y_val.apply(lambda x: label2id[x[0]], axis=1)\n",
    "\n",
    "\n",
    "_dataset_val =  Dataset.from_dict(_dct_val)\n",
    "\n",
    "_dataset_dct = dict()\n",
    "_dataset_dct['train'] = _dataset_train\n",
    "_dataset_dct['val'] = _dataset_val\n"
   ]
  },
  {
   "cell_type": "code",
   "execution_count": 16,
   "id": "a18ee479-d7d0-4b4e-95d1-e067b495d2a8",
   "metadata": {
    "execution": {
     "iopub.execute_input": "2023-10-27T16:55:52.505872Z",
     "iopub.status.busy": "2023-10-27T16:55:52.505173Z",
     "iopub.status.idle": "2023-10-27T16:55:52.513269Z",
     "shell.execute_reply": "2023-10-27T16:55:52.512445Z",
     "shell.execute_reply.started": "2023-10-27T16:55:52.505849Z"
    }
   },
   "outputs": [
    {
     "data": {
      "text/plain": [
       "{'text': 'the fairmont chicago millenium park hotel provides a rich , beautiful , cultured atmosphere . during my stay , i felt like royalty . with unparalleled design schemes and beautiful , tranquil views , the mood during my entire stay was one of bliss . the guest services department was second - to - none . the staff throughout the hotel were obviously concerned with pleasing the customer and making my stay as wonderful as possible . when dealing with a staff member at fairmont , i felt as if i were the only guest in the place . the food and drink selections were vast and fit for a king . i will definitely recommend fairmont chicago millenium park to my friends and colleagues . i will also greatly look forward to my next stay .',\n",
       " 'label': 3}"
      ]
     },
     "execution_count": 16,
     "metadata": {},
     "output_type": "execute_result"
    }
   ],
   "source": [
    "_dataset_train[2]"
   ]
  },
  {
   "cell_type": "code",
   "execution_count": 17,
   "id": "59a7ecd6-3fe4-44ac-835b-ca258b3ef7bf",
   "metadata": {
    "execution": {
     "iopub.execute_input": "2023-10-27T16:55:52.514186Z",
     "iopub.status.busy": "2023-10-27T16:55:52.513950Z",
     "iopub.status.idle": "2023-10-27T16:55:52.779208Z",
     "shell.execute_reply": "2023-10-27T16:55:52.778157Z",
     "shell.execute_reply.started": "2023-10-27T16:55:52.514172Z"
    }
   },
   "outputs": [],
   "source": [
    "tokenizer = AutoTokenizer.from_pretrained(\"bert-base-uncased\")\n"
   ]
  },
  {
   "cell_type": "code",
   "execution_count": 18,
   "id": "6136a513-f4a2-438b-8ba9-50744e03a8ad",
   "metadata": {
    "execution": {
     "iopub.execute_input": "2023-10-27T16:55:52.780872Z",
     "iopub.status.busy": "2023-10-27T16:55:52.780539Z",
     "iopub.status.idle": "2023-10-27T16:55:52.785357Z",
     "shell.execute_reply": "2023-10-27T16:55:52.784393Z",
     "shell.execute_reply.started": "2023-10-27T16:55:52.780850Z"
    }
   },
   "outputs": [],
   "source": [
    "def preprocess_function(examples):\n",
    "    return tokenizer(examples[\"text\"], truncation=True, max_length=256)"
   ]
  },
  {
   "cell_type": "code",
   "execution_count": 19,
   "id": "fbfc5bb6-42bb-46ac-ab92-eb9045717336",
   "metadata": {
    "execution": {
     "iopub.execute_input": "2023-10-27T16:55:52.786653Z",
     "iopub.status.busy": "2023-10-27T16:55:52.786418Z",
     "iopub.status.idle": "2023-10-27T16:55:53.068060Z",
     "shell.execute_reply": "2023-10-27T16:55:53.066348Z",
     "shell.execute_reply.started": "2023-10-27T16:55:52.786633Z"
    }
   },
   "outputs": [
    {
     "name": "stderr",
     "output_type": "stream",
     "text": [
      "Map: 100%|█████████████████████████████████████████████████████████████████| 1062/1062 [00:00<00:00, 5356.54 examples/s]\n",
      "Map: 100%|███████████████████████████████████████████████████████████████████| 400/400 [00:00<00:00, 9044.47 examples/s]\n"
     ]
    }
   ],
   "source": [
    "tokenized_train = _dataset_train.map(preprocess_function, batched=True)\n",
    "tokenized_val = _dataset_val.map(preprocess_function, batched=True)\n"
   ]
  },
  {
   "cell_type": "code",
   "execution_count": 20,
   "id": "e426066b-8e59-4712-bc02-edfc084703cd",
   "metadata": {
    "execution": {
     "iopub.execute_input": "2023-10-27T16:55:53.071474Z",
     "iopub.status.busy": "2023-10-27T16:55:53.070056Z",
     "iopub.status.idle": "2023-10-27T16:55:53.078750Z",
     "shell.execute_reply": "2023-10-27T16:55:53.076944Z",
     "shell.execute_reply.started": "2023-10-27T16:55:53.071401Z"
    },
    "scrolled": true
   },
   "outputs": [],
   "source": [
    "#tokenized_val[0]"
   ]
  },
  {
   "cell_type": "code",
   "execution_count": 21,
   "id": "a63fdb09-e87f-45b2-9172-242ffdb41e8a",
   "metadata": {
    "execution": {
     "iopub.execute_input": "2023-10-27T16:55:53.079846Z",
     "iopub.status.busy": "2023-10-27T16:55:53.079612Z",
     "iopub.status.idle": "2023-10-27T16:55:53.105767Z",
     "shell.execute_reply": "2023-10-27T16:55:53.104320Z",
     "shell.execute_reply.started": "2023-10-27T16:55:53.079825Z"
    }
   },
   "outputs": [],
   "source": [
    "from transformers import DataCollatorWithPadding\n",
    "\n",
    "data_collator = DataCollatorWithPadding(tokenizer=tokenizer, padding='max_length', max_length=256)"
   ]
  },
  {
   "cell_type": "code",
   "execution_count": 22,
   "id": "5b611fbd-90cc-4e9a-8f26-71b0b9a1b2d3",
   "metadata": {
    "execution": {
     "iopub.execute_input": "2023-10-27T16:55:53.107473Z",
     "iopub.status.busy": "2023-10-27T16:55:53.107090Z",
     "iopub.status.idle": "2023-10-27T16:55:53.129097Z",
     "shell.execute_reply": "2023-10-27T16:55:53.127799Z",
     "shell.execute_reply.started": "2023-10-27T16:55:53.107443Z"
    }
   },
   "outputs": [],
   "source": [
    "#!pip install evaluate"
   ]
  },
  {
   "cell_type": "code",
   "execution_count": 23,
   "id": "2a57195c-f283-41ff-8a00-e3c5f448ebb6",
   "metadata": {
    "execution": {
     "iopub.execute_input": "2023-10-27T16:55:53.131318Z",
     "iopub.status.busy": "2023-10-27T16:55:53.130914Z",
     "iopub.status.idle": "2023-10-27T16:55:54.555628Z",
     "shell.execute_reply": "2023-10-27T16:55:54.554356Z",
     "shell.execute_reply.started": "2023-10-27T16:55:53.131280Z"
    }
   },
   "outputs": [],
   "source": [
    "import evaluate\n",
    "\n",
    "accuracy = evaluate.load(\"accuracy\")"
   ]
  },
  {
   "cell_type": "code",
   "execution_count": 24,
   "id": "5aa2d7a0-02ff-4833-89bb-4f3938dfd39e",
   "metadata": {
    "execution": {
     "iopub.execute_input": "2023-10-27T16:55:54.557197Z",
     "iopub.status.busy": "2023-10-27T16:55:54.556936Z",
     "iopub.status.idle": "2023-10-27T16:55:54.562147Z",
     "shell.execute_reply": "2023-10-27T16:55:54.561371Z",
     "shell.execute_reply.started": "2023-10-27T16:55:54.557171Z"
    }
   },
   "outputs": [],
   "source": [
    "import numpy as np\n",
    "\n",
    "\n",
    "def compute_metrics(eval_pred):\n",
    "    predictions, labels_ = eval_pred\n",
    "    predictions = np.argmax(predictions, axis=1)\n",
    "    return accuracy.compute(predictions=predictions, references=labels_)"
   ]
  },
  {
   "cell_type": "code",
   "execution_count": 25,
   "id": "6ae2eecf-1438-4ab6-9f62-0c7e295ab2d3",
   "metadata": {
    "execution": {
     "iopub.execute_input": "2023-10-27T16:55:54.563080Z",
     "iopub.status.busy": "2023-10-27T16:55:54.562891Z",
     "iopub.status.idle": "2023-10-27T16:55:55.710671Z",
     "shell.execute_reply": "2023-10-27T16:55:55.709077Z",
     "shell.execute_reply.started": "2023-10-27T16:55:54.563065Z"
    }
   },
   "outputs": [
    {
     "name": "stderr",
     "output_type": "stream",
     "text": [
      "Some weights of BertForSequenceClassification were not initialized from the model checkpoint at bert-base-uncased and are newly initialized: ['classifier.weight', 'classifier.bias']\n",
      "You should probably TRAIN this model on a down-stream task to be able to use it for predictions and inference.\n"
     ]
    }
   ],
   "source": [
    "from transformers import AutoModelForSequenceClassification, TrainingArguments, Trainer\n",
    "\n",
    "model = AutoModelForSequenceClassification.from_pretrained(\n",
    "    \"bert-base-uncased\", num_labels=4, id2label=id2label, label2id=label2id\n",
    ")"
   ]
  },
  {
   "cell_type": "code",
   "execution_count": 26,
   "id": "71eb595d-d44d-470c-a26b-d1c188e36c81",
   "metadata": {
    "execution": {
     "iopub.execute_input": "2023-10-27T16:55:55.712754Z",
     "iopub.status.busy": "2023-10-27T16:55:55.712451Z",
     "iopub.status.idle": "2023-10-27T17:20:49.687355Z",
     "shell.execute_reply": "2023-10-27T17:20:49.683678Z",
     "shell.execute_reply.started": "2023-10-27T16:55:55.712735Z"
    }
   },
   "outputs": [
    {
     "name": "stderr",
     "output_type": "stream",
     "text": [
      "You're using a BertTokenizerFast tokenizer. Please note that with a fast tokenizer, using the `__call__` method is faster than using a method to encode the text followed by a call to the `pad` method to get a padded encoding.\n"
     ]
    },
    {
     "data": {
      "text/html": [
       "\n",
       "    <div>\n",
       "      \n",
       "      <progress value='1330' max='1330' style='width:300px; height:20px; vertical-align: middle;'></progress>\n",
       "      [1330/1330 24:50, Epoch 10/10]\n",
       "    </div>\n",
       "    <table border=\"1\" class=\"dataframe\">\n",
       "  <thead>\n",
       " <tr style=\"text-align: left;\">\n",
       "      <th>Epoch</th>\n",
       "      <th>Training Loss</th>\n",
       "      <th>Validation Loss</th>\n",
       "      <th>Accuracy</th>\n",
       "    </tr>\n",
       "  </thead>\n",
       "  <tbody>\n",
       "    <tr>\n",
       "      <td>1</td>\n",
       "      <td>No log</td>\n",
       "      <td>0.626619</td>\n",
       "      <td>0.735000</td>\n",
       "    </tr>\n",
       "    <tr>\n",
       "      <td>2</td>\n",
       "      <td>No log</td>\n",
       "      <td>0.405002</td>\n",
       "      <td>0.850000</td>\n",
       "    </tr>\n",
       "    <tr>\n",
       "      <td>3</td>\n",
       "      <td>No log</td>\n",
       "      <td>0.526671</td>\n",
       "      <td>0.845000</td>\n",
       "    </tr>\n",
       "    <tr>\n",
       "      <td>4</td>\n",
       "      <td>0.432900</td>\n",
       "      <td>0.520177</td>\n",
       "      <td>0.880000</td>\n",
       "    </tr>\n",
       "    <tr>\n",
       "      <td>5</td>\n",
       "      <td>0.432900</td>\n",
       "      <td>0.737396</td>\n",
       "      <td>0.857500</td>\n",
       "    </tr>\n",
       "    <tr>\n",
       "      <td>6</td>\n",
       "      <td>0.432900</td>\n",
       "      <td>0.576676</td>\n",
       "      <td>0.885000</td>\n",
       "    </tr>\n",
       "    <tr>\n",
       "      <td>7</td>\n",
       "      <td>0.432900</td>\n",
       "      <td>0.651320</td>\n",
       "      <td>0.882500</td>\n",
       "    </tr>\n",
       "    <tr>\n",
       "      <td>8</td>\n",
       "      <td>0.022100</td>\n",
       "      <td>0.705824</td>\n",
       "      <td>0.872500</td>\n",
       "    </tr>\n",
       "    <tr>\n",
       "      <td>9</td>\n",
       "      <td>0.022100</td>\n",
       "      <td>0.706277</td>\n",
       "      <td>0.872500</td>\n",
       "    </tr>\n",
       "    <tr>\n",
       "      <td>10</td>\n",
       "      <td>0.022100</td>\n",
       "      <td>0.705441</td>\n",
       "      <td>0.872500</td>\n",
       "    </tr>\n",
       "  </tbody>\n",
       "</table><p>"
      ],
      "text/plain": [
       "<IPython.core.display.HTML object>"
      ]
     },
     "metadata": {},
     "output_type": "display_data"
    },
    {
     "data": {
      "text/plain": [
       "TrainOutput(global_step=1330, training_loss=0.17134488316855037, metrics={'train_runtime': 1491.9589, 'train_samples_per_second': 7.118, 'train_steps_per_second': 0.891, 'total_flos': 1397144792309760.0, 'train_loss': 0.17134488316855037, 'epoch': 10.0})"
      ]
     },
     "execution_count": 26,
     "metadata": {},
     "output_type": "execute_result"
    }
   ],
   "source": [
    "training_args = TrainingArguments(\n",
    "    output_dir=\"my_awesome_model\",\n",
    "    learning_rate=2e-5,\n",
    "    per_device_train_batch_size=8,\n",
    "    per_device_eval_batch_size=8,\n",
    "    num_train_epochs=10,\n",
    "    weight_decay=0.05,\n",
    "    evaluation_strategy=\"epoch\",\n",
    "    save_strategy=\"epoch\",\n",
    "    load_best_model_at_end=True,\n",
    "    metric_for_best_model='eval_accuracy'\n",
    "    #push_to_hub=True,\n",
    ")\n",
    "\n",
    "trainer = Trainer(\n",
    "    model=model,\n",
    "    args=training_args,\n",
    "    train_dataset=tokenized_train,\n",
    "    eval_dataset=tokenized_val,\n",
    "    tokenizer=tokenizer,\n",
    "    data_collator=data_collator,\n",
    "    compute_metrics=compute_metrics,\n",
    ")\n",
    "\n",
    "trainer.train()"
   ]
  },
  {
   "cell_type": "code",
   "execution_count": 27,
   "id": "feacb8b2-6d00-4463-8552-50699da2e083",
   "metadata": {
    "execution": {
     "iopub.execute_input": "2023-10-27T17:20:49.690956Z",
     "iopub.status.busy": "2023-10-27T17:20:49.690676Z",
     "iopub.status.idle": "2023-10-27T17:20:49.701970Z",
     "shell.execute_reply": "2023-10-27T17:20:49.701279Z",
     "shell.execute_reply.started": "2023-10-27T17:20:49.690936Z"
    },
    "scrolled": true
   },
   "outputs": [
    {
     "data": {
      "text/plain": [
       "BertForSequenceClassification(\n",
       "  (bert): BertModel(\n",
       "    (embeddings): BertEmbeddings(\n",
       "      (word_embeddings): Embedding(30522, 768, padding_idx=0)\n",
       "      (position_embeddings): Embedding(512, 768)\n",
       "      (token_type_embeddings): Embedding(2, 768)\n",
       "      (LayerNorm): LayerNorm((768,), eps=1e-12, elementwise_affine=True)\n",
       "      (dropout): Dropout(p=0.1, inplace=False)\n",
       "    )\n",
       "    (encoder): BertEncoder(\n",
       "      (layer): ModuleList(\n",
       "        (0-11): 12 x BertLayer(\n",
       "          (attention): BertAttention(\n",
       "            (self): BertSelfAttention(\n",
       "              (query): Linear(in_features=768, out_features=768, bias=True)\n",
       "              (key): Linear(in_features=768, out_features=768, bias=True)\n",
       "              (value): Linear(in_features=768, out_features=768, bias=True)\n",
       "              (dropout): Dropout(p=0.1, inplace=False)\n",
       "            )\n",
       "            (output): BertSelfOutput(\n",
       "              (dense): Linear(in_features=768, out_features=768, bias=True)\n",
       "              (LayerNorm): LayerNorm((768,), eps=1e-12, elementwise_affine=True)\n",
       "              (dropout): Dropout(p=0.1, inplace=False)\n",
       "            )\n",
       "          )\n",
       "          (intermediate): BertIntermediate(\n",
       "            (dense): Linear(in_features=768, out_features=3072, bias=True)\n",
       "            (intermediate_act_fn): GELUActivation()\n",
       "          )\n",
       "          (output): BertOutput(\n",
       "            (dense): Linear(in_features=3072, out_features=768, bias=True)\n",
       "            (LayerNorm): LayerNorm((768,), eps=1e-12, elementwise_affine=True)\n",
       "            (dropout): Dropout(p=0.1, inplace=False)\n",
       "          )\n",
       "        )\n",
       "      )\n",
       "    )\n",
       "    (pooler): BertPooler(\n",
       "      (dense): Linear(in_features=768, out_features=768, bias=True)\n",
       "      (activation): Tanh()\n",
       "    )\n",
       "  )\n",
       "  (dropout): Dropout(p=0.1, inplace=False)\n",
       "  (classifier): Linear(in_features=768, out_features=4, bias=True)\n",
       ")"
      ]
     },
     "execution_count": 27,
     "metadata": {},
     "output_type": "execute_result"
    }
   ],
   "source": [
    "trainer.model"
   ]
  },
  {
   "cell_type": "code",
   "execution_count": 28,
   "id": "cff0acb9-6dd6-4b83-9057-61ac17251739",
   "metadata": {
    "execution": {
     "iopub.execute_input": "2023-10-27T17:20:49.703600Z",
     "iopub.status.busy": "2023-10-27T17:20:49.703007Z",
     "iopub.status.idle": "2023-10-27T17:21:07.520930Z",
     "shell.execute_reply": "2023-10-27T17:21:07.520089Z",
     "shell.execute_reply.started": "2023-10-27T17:20:49.703582Z"
    }
   },
   "outputs": [
    {
     "data": {
      "text/html": [
       "\n",
       "    <div>\n",
       "      \n",
       "      <progress value='50' max='50' style='width:300px; height:20px; vertical-align: middle;'></progress>\n",
       "      [50/50 00:17]\n",
       "    </div>\n",
       "    "
      ],
      "text/plain": [
       "<IPython.core.display.HTML object>"
      ]
     },
     "metadata": {},
     "output_type": "display_data"
    },
    {
     "data": {
      "text/plain": [
       "{'eval_loss': 0.5766761302947998,\n",
       " 'eval_accuracy': 0.885,\n",
       " 'eval_runtime': 17.8059,\n",
       " 'eval_samples_per_second': 22.464,\n",
       " 'eval_steps_per_second': 2.808,\n",
       " 'epoch': 10.0}"
      ]
     },
     "execution_count": 28,
     "metadata": {},
     "output_type": "execute_result"
    }
   ],
   "source": [
    "trainer.evaluate()"
   ]
  },
  {
   "cell_type": "code",
   "execution_count": 29,
   "id": "ef471c56-d0d7-428d-8579-f7a5da7b73c0",
   "metadata": {
    "execution": {
     "iopub.execute_input": "2023-10-27T17:21:07.522164Z",
     "iopub.status.busy": "2023-10-27T17:21:07.521972Z",
     "iopub.status.idle": "2023-10-27T17:21:08.059176Z",
     "shell.execute_reply": "2023-10-27T17:21:08.058471Z",
     "shell.execute_reply.started": "2023-10-27T17:21:07.522151Z"
    }
   },
   "outputs": [],
   "source": [
    "trainer.save_model(\"./bert_005\")"
   ]
  },
  {
   "cell_type": "code",
   "execution_count": 30,
   "id": "310ddd1a-6215-44c4-aef1-f8c991361216",
   "metadata": {
    "execution": {
     "iopub.execute_input": "2023-10-27T17:21:08.060796Z",
     "iopub.status.busy": "2023-10-27T17:21:08.060347Z",
     "iopub.status.idle": "2023-10-27T17:21:08.064384Z",
     "shell.execute_reply": "2023-10-27T17:21:08.063622Z",
     "shell.execute_reply.started": "2023-10-27T17:21:08.060777Z"
    }
   },
   "outputs": [],
   "source": [
    "#model = trainer.model"
   ]
  },
  {
   "cell_type": "code",
   "execution_count": 31,
   "id": "4f363a56-5cc4-4e89-8fec-1ab2e64f59aa",
   "metadata": {
    "execution": {
     "iopub.execute_input": "2023-10-27T17:21:08.065968Z",
     "iopub.status.busy": "2023-10-27T17:21:08.065534Z",
     "iopub.status.idle": "2023-10-27T17:21:08.139373Z",
     "shell.execute_reply": "2023-10-27T17:21:08.137939Z",
     "shell.execute_reply.started": "2023-10-27T17:21:08.065951Z"
    }
   },
   "outputs": [],
   "source": [
    "text = \"Bad. Super bad. Very bad hotel. worst hotel ever. I have everyone\""
   ]
  },
  {
   "cell_type": "code",
   "execution_count": 32,
   "id": "88efe1cd-0a17-4d4a-a2bb-feb3df3a8a58",
   "metadata": {
    "execution": {
     "iopub.execute_input": "2023-10-27T17:21:08.141226Z",
     "iopub.status.busy": "2023-10-27T17:21:08.140945Z",
     "iopub.status.idle": "2023-10-27T17:21:08.160209Z",
     "shell.execute_reply": "2023-10-27T17:21:08.158844Z",
     "shell.execute_reply.started": "2023-10-27T17:21:08.141207Z"
    }
   },
   "outputs": [],
   "source": [
    "test_set = list()\n",
    "\n",
    "with open(\"test_just_reviews.txt\", \"r\") as fp:\n",
    "    test_set = fp.readlines()"
   ]
  },
  {
   "cell_type": "code",
   "execution_count": 33,
   "id": "147a7c93-0da4-4981-a786-ccde1703362f",
   "metadata": {
    "execution": {
     "iopub.execute_input": "2023-10-27T17:21:08.163154Z",
     "iopub.status.busy": "2023-10-27T17:21:08.162326Z",
     "iopub.status.idle": "2023-10-27T17:21:08.176126Z",
     "shell.execute_reply": "2023-10-27T17:21:08.174787Z",
     "shell.execute_reply.started": "2023-10-27T17:21:08.163124Z"
    },
    "scrolled": true
   },
   "outputs": [],
   "source": [
    "test_set = [' '.join(x.split(' ')[:512]) for x in test_set]"
   ]
  },
  {
   "cell_type": "code",
   "execution_count": 34,
   "id": "4414da6d-42a3-4aec-bb35-98dc2b86d6d5",
   "metadata": {
    "execution": {
     "iopub.execute_input": "2023-10-27T17:21:08.177977Z",
     "iopub.status.busy": "2023-10-27T17:21:08.177489Z",
     "iopub.status.idle": "2023-10-27T17:21:08.224885Z",
     "shell.execute_reply": "2023-10-27T17:21:08.223908Z",
     "shell.execute_reply.started": "2023-10-27T17:21:08.177942Z"
    }
   },
   "outputs": [
    {
     "data": {
      "text/plain": [
       "{'input_ids': tensor([[ 101, 2919, 1012, 3565, 2919, 1012, 2200, 2919, 3309, 1012, 5409, 3309,\n",
       "         2412, 1012, 1045, 2031, 3071,  102]], device='cuda:0'), 'token_type_ids': tensor([[0, 0, 0, 0, 0, 0, 0, 0, 0, 0, 0, 0, 0, 0, 0, 0, 0, 0]],\n",
       "       device='cuda:0'), 'attention_mask': tensor([[1, 1, 1, 1, 1, 1, 1, 1, 1, 1, 1, 1, 1, 1, 1, 1, 1, 1]],\n",
       "       device='cuda:0')}"
      ]
     },
     "execution_count": 34,
     "metadata": {},
     "output_type": "execute_result"
    }
   ],
   "source": [
    "tokenizer = AutoTokenizer.from_pretrained(\"bert_005/\")\n",
    "\n",
    "tokenizer(text, return_tensors=\"pt\").to(device=\"cuda:0\")"
   ]
  },
  {
   "cell_type": "code",
   "execution_count": null,
   "id": "0ce4b186-c270-4fac-aa7f-583fa097cf4f",
   "metadata": {},
   "outputs": [],
   "source": []
  },
  {
   "cell_type": "code",
   "execution_count": 35,
   "id": "42a30b67-de84-485f-9d3c-3e2ebe0ef47d",
   "metadata": {
    "execution": {
     "iopub.execute_input": "2023-10-27T17:21:08.226263Z",
     "iopub.status.busy": "2023-10-27T17:21:08.226029Z",
     "iopub.status.idle": "2023-10-27T17:21:08.421157Z",
     "shell.execute_reply": "2023-10-27T17:21:08.420365Z",
     "shell.execute_reply.started": "2023-10-27T17:21:08.226248Z"
    }
   },
   "outputs": [],
   "source": [
    "tokenizer = AutoTokenizer.from_pretrained(\"bert_005/\")\n",
    "tokenized_test = list()\n",
    "\n",
    "for rev in test_set:\n",
    "    inputs = tokenizer(rev, return_tensors=\"pt\", truncation=True, max_length=256).to(device=\"cuda:0\")\n",
    "    tokenized_test.append(inputs)\n",
    "#inputs.get_device()"
   ]
  },
  {
   "cell_type": "code",
   "execution_count": 36,
   "id": "9206faf8-629e-41e8-b37f-0e9f6e554175",
   "metadata": {
    "execution": {
     "iopub.execute_input": "2023-10-27T17:21:08.422387Z",
     "iopub.status.busy": "2023-10-27T17:21:08.422147Z",
     "iopub.status.idle": "2023-10-27T17:21:08.426395Z",
     "shell.execute_reply": "2023-10-27T17:21:08.425569Z",
     "shell.execute_reply.started": "2023-10-27T17:21:08.422371Z"
    }
   },
   "outputs": [],
   "source": [
    "results = list()"
   ]
  },
  {
   "cell_type": "code",
   "execution_count": 37,
   "id": "50995cef-a7c1-480c-afa6-38bbe3efc76e",
   "metadata": {
    "execution": {
     "iopub.execute_input": "2023-10-27T17:21:08.427762Z",
     "iopub.status.busy": "2023-10-27T17:21:08.427348Z",
     "iopub.status.idle": "2023-10-27T17:21:08.441112Z",
     "shell.execute_reply": "2023-10-27T17:21:08.440311Z",
     "shell.execute_reply.started": "2023-10-27T17:21:08.427741Z"
    }
   },
   "outputs": [],
   "source": [
    "#tokenized_test"
   ]
  },
  {
   "cell_type": "code",
   "execution_count": 38,
   "id": "652ee9a6-dccf-481f-87e2-e6377aa8dff7",
   "metadata": {
    "execution": {
     "iopub.execute_input": "2023-10-27T17:21:08.442224Z",
     "iopub.status.busy": "2023-10-27T17:21:08.442035Z",
     "iopub.status.idle": "2023-10-27T17:21:14.727302Z",
     "shell.execute_reply": "2023-10-27T17:21:14.726323Z",
     "shell.execute_reply.started": "2023-10-27T17:21:08.442211Z"
    }
   },
   "outputs": [],
   "source": [
    "with torch.no_grad():\n",
    "    for rev in tokenized_test:\n",
    "        logits = model(**rev).logits\n",
    "        predicted_class_id = logits.argmax().item()\n",
    "        results.append(model.config.id2label[predicted_class_id])"
   ]
  },
  {
   "cell_type": "code",
   "execution_count": 39,
   "id": "6687a19e-f35f-489f-8016-3ed56f0a9403",
   "metadata": {
    "execution": {
     "iopub.execute_input": "2023-10-27T17:21:14.729179Z",
     "iopub.status.busy": "2023-10-27T17:21:14.728618Z",
     "iopub.status.idle": "2023-10-27T17:21:14.736257Z",
     "shell.execute_reply": "2023-10-27T17:21:14.735357Z",
     "shell.execute_reply.started": "2023-10-27T17:21:14.729136Z"
    },
    "scrolled": true
   },
   "outputs": [
    {
     "data": {
      "text/plain": [
       "['deceptivepositive',\n",
       " 'deceptivenegative',\n",
       " 'deceptivepositive',\n",
       " 'truthfulnegative',\n",
       " 'truthfulpositive',\n",
       " 'truthfulnegative',\n",
       " 'deceptivepositive',\n",
       " 'deceptivepositive',\n",
       " 'truthfulnegative',\n",
       " 'deceptivenegative',\n",
       " 'deceptivepositive',\n",
       " 'deceptivepositive',\n",
       " 'truthfulnegative',\n",
       " 'truthfulnegative',\n",
       " 'truthfulpositive',\n",
       " 'deceptivepositive',\n",
       " 'deceptivepositive',\n",
       " 'truthfulpositive',\n",
       " 'deceptivenegative',\n",
       " 'truthfulpositive',\n",
       " 'deceptivepositive',\n",
       " 'deceptivepositive',\n",
       " 'deceptivepositive',\n",
       " 'deceptivenegative',\n",
       " 'deceptivepositive',\n",
       " 'deceptivenegative',\n",
       " 'truthfulpositive',\n",
       " 'truthfulpositive',\n",
       " 'truthfulnegative',\n",
       " 'deceptivenegative',\n",
       " 'truthfulpositive',\n",
       " 'deceptivepositive',\n",
       " 'deceptivepositive',\n",
       " 'deceptivenegative',\n",
       " 'truthfulnegative',\n",
       " 'deceptivenegative',\n",
       " 'truthfulpositive',\n",
       " 'deceptivepositive',\n",
       " 'truthfulnegative',\n",
       " 'deceptivenegative',\n",
       " 'truthfulpositive',\n",
       " 'truthfulnegative',\n",
       " 'deceptivenegative',\n",
       " 'truthfulpositive',\n",
       " 'deceptivenegative',\n",
       " 'truthfulnegative',\n",
       " 'deceptivenegative',\n",
       " 'deceptivenegative',\n",
       " 'deceptivenegative',\n",
       " 'deceptivepositive',\n",
       " 'truthfulnegative',\n",
       " 'deceptivenegative',\n",
       " 'deceptivenegative',\n",
       " 'truthfulpositive',\n",
       " 'truthfulpositive',\n",
       " 'truthfulpositive',\n",
       " 'truthfulnegative',\n",
       " 'deceptivenegative',\n",
       " 'truthfulnegative',\n",
       " 'deceptivepositive',\n",
       " 'deceptivepositive',\n",
       " 'deceptivenegative',\n",
       " 'deceptivepositive',\n",
       " 'deceptivepositive',\n",
       " 'deceptivenegative',\n",
       " 'truthfulnegative',\n",
       " 'deceptivenegative',\n",
       " 'truthfulnegative',\n",
       " 'deceptivenegative',\n",
       " 'truthfulpositive',\n",
       " 'deceptivepositive',\n",
       " 'truthfulnegative',\n",
       " 'truthfulpositive',\n",
       " 'deceptivepositive',\n",
       " 'truthfulnegative',\n",
       " 'deceptivepositive',\n",
       " 'truthfulnegative',\n",
       " 'truthfulpositive',\n",
       " 'deceptivepositive',\n",
       " 'truthfulnegative',\n",
       " 'deceptivepositive',\n",
       " 'deceptivenegative',\n",
       " 'truthfulnegative',\n",
       " 'truthfulnegative',\n",
       " 'truthfulnegative',\n",
       " 'deceptivenegative',\n",
       " 'truthfulnegative',\n",
       " 'deceptivepositive',\n",
       " 'truthfulnegative',\n",
       " 'truthfulpositive',\n",
       " 'deceptivepositive',\n",
       " 'truthfulpositive',\n",
       " 'deceptivenegative',\n",
       " 'deceptivepositive',\n",
       " 'deceptivenegative',\n",
       " 'truthfulnegative',\n",
       " 'truthfulnegative',\n",
       " 'truthfulpositive',\n",
       " 'truthfulpositive',\n",
       " 'truthfulpositive',\n",
       " 'deceptivepositive',\n",
       " 'deceptivenegative',\n",
       " 'deceptivepositive',\n",
       " 'truthfulpositive',\n",
       " 'deceptivepositive',\n",
       " 'deceptivenegative',\n",
       " 'deceptivepositive',\n",
       " 'deceptivepositive',\n",
       " 'truthfulpositive',\n",
       " 'truthfulnegative',\n",
       " 'deceptivenegative',\n",
       " 'deceptivepositive',\n",
       " 'truthfulpositive',\n",
       " 'deceptivenegative',\n",
       " 'truthfulnegative',\n",
       " 'deceptivepositive',\n",
       " 'deceptivenegative',\n",
       " 'truthfulpositive',\n",
       " 'truthfulnegative',\n",
       " 'deceptivenegative',\n",
       " 'truthfulnegative',\n",
       " 'deceptivenegative',\n",
       " 'truthfulpositive',\n",
       " 'deceptivenegative',\n",
       " 'truthfulnegative',\n",
       " 'deceptivepositive',\n",
       " 'deceptivepositive',\n",
       " 'truthfulpositive',\n",
       " 'deceptivenegative',\n",
       " 'deceptivenegative',\n",
       " 'truthfulpositive',\n",
       " 'deceptivepositive',\n",
       " 'truthfulpositive',\n",
       " 'deceptivenegative',\n",
       " 'truthfulnegative',\n",
       " 'truthfulnegative',\n",
       " 'truthfulnegative',\n",
       " 'deceptivepositive',\n",
       " 'deceptivenegative',\n",
       " 'truthfulpositive',\n",
       " 'deceptivepositive',\n",
       " 'truthfulpositive',\n",
       " 'truthfulnegative',\n",
       " 'truthfulnegative',\n",
       " 'truthfulnegative',\n",
       " 'truthfulnegative',\n",
       " 'truthfulpositive',\n",
       " 'truthfulpositive',\n",
       " 'truthfulpositive',\n",
       " 'deceptivepositive',\n",
       " 'deceptivenegative',\n",
       " 'deceptivepositive',\n",
       " 'truthfulnegative',\n",
       " 'deceptivepositive',\n",
       " 'deceptivepositive',\n",
       " 'deceptivepositive',\n",
       " 'deceptivenegative',\n",
       " 'truthfulpositive',\n",
       " 'deceptivenegative',\n",
       " 'deceptivenegative',\n",
       " 'deceptivepositive',\n",
       " 'deceptivenegative',\n",
       " 'deceptivepositive',\n",
       " 'truthfulpositive',\n",
       " 'deceptivepositive',\n",
       " 'truthfulpositive',\n",
       " 'truthfulpositive',\n",
       " 'truthfulpositive',\n",
       " 'deceptivenegative',\n",
       " 'truthfulnegative',\n",
       " 'truthfulpositive',\n",
       " 'truthfulnegative',\n",
       " 'truthfulpositive',\n",
       " 'truthfulpositive',\n",
       " 'deceptivenegative',\n",
       " 'deceptivepositive',\n",
       " 'deceptivepositive',\n",
       " 'truthfulpositive',\n",
       " 'deceptivepositive',\n",
       " 'truthfulpositive',\n",
       " 'truthfulpositive',\n",
       " 'deceptivenegative',\n",
       " 'deceptivenegative',\n",
       " 'deceptivepositive',\n",
       " 'deceptivepositive',\n",
       " 'deceptivenegative',\n",
       " 'truthfulpositive',\n",
       " 'truthfulnegative',\n",
       " 'deceptivepositive',\n",
       " 'truthfulnegative',\n",
       " 'truthfulpositive',\n",
       " 'truthfulnegative',\n",
       " 'deceptivenegative',\n",
       " 'deceptivenegative',\n",
       " 'truthfulpositive',\n",
       " 'deceptivenegative',\n",
       " 'truthfulnegative',\n",
       " 'truthfulpositive',\n",
       " 'truthfulpositive',\n",
       " 'truthfulnegative']"
      ]
     },
     "execution_count": 39,
     "metadata": {},
     "output_type": "execute_result"
    }
   ],
   "source": [
    "results"
   ]
  },
  {
   "cell_type": "code",
   "execution_count": 40,
   "id": "25fffe4e-66ce-46b7-b315-62da7531f8fb",
   "metadata": {
    "execution": {
     "iopub.execute_input": "2023-10-27T17:21:14.744241Z",
     "iopub.status.busy": "2023-10-27T17:21:14.743210Z",
     "iopub.status.idle": "2023-10-27T17:21:14.784754Z",
     "shell.execute_reply": "2023-10-27T17:21:14.783475Z",
     "shell.execute_reply.started": "2023-10-27T17:21:14.744214Z"
    }
   },
   "outputs": [],
   "source": [
    "pd.Series(results).to_csv(\"Results_005.txt\")"
   ]
  },
  {
   "cell_type": "code",
   "execution_count": null,
   "id": "618f8b9a-bbeb-4b29-9dd0-a71bb79afb4d",
   "metadata": {},
   "outputs": [],
   "source": []
  }
 ],
 "metadata": {
  "kernelspec": {
   "display_name": "LN-kernel",
   "language": "python",
   "name": "ln-kernel"
  },
  "language_info": {
   "codemirror_mode": {
    "name": "ipython",
    "version": 3
   },
   "file_extension": ".py",
   "mimetype": "text/x-python",
   "name": "python",
   "nbconvert_exporter": "python",
   "pygments_lexer": "ipython3",
   "version": "3.8.16"
  }
 },
 "nbformat": 4,
 "nbformat_minor": 5
}
